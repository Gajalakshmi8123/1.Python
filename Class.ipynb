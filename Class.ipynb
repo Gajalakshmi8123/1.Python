{
 "cells": [
  {
   "cell_type": "code",
   "execution_count": 5,
   "metadata": {},
   "outputs": [
    {
     "name": "stdout",
     "output_type": "stream",
     "text": [
      "Car: BMW 2000\n"
     ]
    }
   ],
   "source": [
    "# Defining a class named Car\n",
    "class Car():\n",
    "    # Constructor to initialize the object\n",
    "    def __init__(self, brand, model):\n",
    "        self.brand = brand  # Attribute\n",
    "        self.model = model  # Attribute\n",
    "\n",
    "    # Method to display car details\n",
    "    def display_info(self):\n",
    "        print(f\"Car: {self.brand} {self.model}\")\n",
    "obj=Car('BMW','2000')\n",
    "obj.display_info()\n",
    "\n"
   ]
  },
  {
   "cell_type": "code",
   "execution_count": 6,
   "metadata": {},
   "outputs": [
    {
     "name": "stdout",
     "output_type": "stream",
     "text": [
      "HEllo\n",
      "<__main__.MyClass object at 0x00000207174B7FB0>\n"
     ]
    }
   ],
   "source": [
    "class MyClass:\n",
    "  x = 5\n",
    "  print(\"HEllo\")\n",
    "y=MyClass()\n",
    "print(y)\n"
   ]
  },
  {
   "cell_type": "code",
   "execution_count": 12,
   "metadata": {},
   "outputs": [
    {
     "name": "stdout",
     "output_type": "stream",
     "text": [
      "Car: audi 2010\n",
      "Car: BMW 2000\n",
      "<__main__.Car object at 0x00000207174895B0>\n",
      "<__main__.Car object at 0x0000020717488710>\n"
     ]
    }
   ],
   "source": [
    "class Car:\n",
    "    def __init__(self, brand, model):\n",
    "        self.brand = brand  # Refers to the object's brand\n",
    "        self.model = model  # Refers to the object's model\n",
    "\n",
    "    def display_info(self):\n",
    "        print(f\"Car: {self.brand} {self.model}\")\n",
    "car1=Car('audi',2010)\n",
    "car2=Car('BMW',2000)\n",
    "car1.display_info()\n",
    "car2.display_info()\n",
    "print(car1)\n",
    "print(car2)"
   ]
  },
  {
   "cell_type": "code",
   "execution_count": 11,
   "metadata": {},
   "outputs": [
    {
     "name": "stdout",
     "output_type": "stream",
     "text": [
      "Car: Toyota Corolla\n"
     ]
    }
   ],
   "source": [
    "car1 = Car(\"Toyota\", \"Corolla\")\n",
    "car1.display_info()\n"
   ]
  },
  {
   "cell_type": "code",
   "execution_count": null,
   "metadata": {},
   "outputs": [
    {
     "name": "stdout",
     "output_type": "stream",
     "text": [
      "bark\n"
     ]
    }
   ],
   "source": [
    "class Dog:\n",
    "    sound = \"bark\" #features\n",
    "\n",
    "# Create an object from the class\n",
    "dog1 = Dog()\n",
    "\n",
    "# Access the class attribute\n",
    "print(dog1.sound)\n"
   ]
  },
  {
   "cell_type": "code",
   "execution_count": 2,
   "metadata": {},
   "outputs": [
    {
     "name": "stdout",
     "output_type": "stream",
     "text": [
      "Buddy is 3 years old.\n",
      "Charlie is 5 years old.\n"
     ]
    }
   ],
   "source": [
    "class Dog:\n",
    "    def __init__(self, name, age):\n",
    "        self.name = name\n",
    "        self.age = age\n",
    "\n",
    "    def __str__(self):\n",
    "        return f\"{self.name} is {self.age} years old.\"  # Correct: Returning a string\n",
    "      \n",
    "dog1 = Dog(\"Buddy\", 3)\n",
    "dog2 = Dog(\"Charlie\", 5)\n",
    "\n",
    "print(dog1)  \n",
    "print(dog2)  "
   ]
  },
  {
   "cell_type": "code",
   "execution_count": 4,
   "metadata": {},
   "outputs": [
    {
     "name": "stdout",
     "output_type": "stream",
     "text": [
      "<class '__main__.car'>\n",
      "<__main__.car object at 0x000001A12C6A6630>\n"
     ]
    }
   ],
   "source": [
    "class car():\n",
    "    pass\n",
    "audi=car()\n",
    "bmw=car()\n",
    "print(type(audi))\n",
    "print(audi)\n"
   ]
  },
  {
   "cell_type": "code",
   "execution_count": 17,
   "metadata": {},
   "outputs": [
    {
     "name": "stdout",
     "output_type": "stream",
     "text": [
      "shill is 3 years old\n",
      "tiger is 4 years old\n"
     ]
    }
   ],
   "source": [
    "class Dog:\n",
    "    # Class attribute\n",
    "    species = \"Canis familiaris\"\n",
    "\n",
    "    # Initializer / Instance attributes\n",
    "    def __init__(self, name, age):\n",
    "        self.name = name\n",
    "        self.age = age\n",
    "\n",
    "    # Instance method\n",
    "    def description(self):\n",
    "        return f\"{self.name} is {self.age} years old\"\n",
    "\n",
    "    # Another instance method\n",
    "    def speak(self, sound):\n",
    "        return f\"{self.name} says {sound}\"\n",
    "more=Dog('shill','3')\n",
    "dog2=Dog('tiger','4')\n",
    "print(more.description())\n",
    "print(dog2.description())"
   ]
  },
  {
   "cell_type": "code",
   "execution_count": 18,
   "metadata": {},
   "outputs": [
    {
     "data": {
      "text/plain": [
       "'Hello'"
      ]
     },
     "execution_count": 18,
     "metadata": {},
     "output_type": "execute_result"
    }
   ],
   "source": [
    "class car():\n",
    "    s=\"Hello\"\n",
    "    def speed(self):\n",
    "        return \"high\"\n",
    "    \n",
    "\n",
    "audi=car()\n",
    "bmw=car()\n",
    "\n",
    "audi.speed()\n",
    "audi.s\n"
   ]
  },
  {
   "cell_type": "code",
   "execution_count": 19,
   "metadata": {},
   "outputs": [
    {
     "name": "stdout",
     "output_type": "stream",
     "text": [
      "yes\n",
      "no\n"
     ]
    }
   ],
   "source": [
    "class goa():\n",
    "    name='gakjop'\n",
    "    drink='yes'\n",
    "    def party():\n",
    "        print(\"let's party\")\n",
    "    def beach():\n",
    "        print('go and enjoy')\n",
    "ramesh=goa()\n",
    "suresh=goa()\n",
    "ramesh.name='ramesh'\n",
    "suresh.name='suresh'\n",
    "suresh.drink='no'\n",
    "print(ramesh.drink)\n",
    "print(suresh.drink)"
   ]
  },
  {
   "cell_type": "code",
   "execution_count": 20,
   "metadata": {},
   "outputs": [
    {
     "name": "stdout",
     "output_type": "stream",
     "text": [
      "50000\n",
      "i7\n"
     ]
    }
   ],
   "source": [
    "class laptop():\n",
    "    price=''\n",
    "    processor=''\n",
    "    Ram=''\n",
    "HP=laptop()\n",
    "DELL=laptop()\n",
    "LENOVO=laptop()\n",
    "\n",
    "HP.price=50000\n",
    "DELL.price=60000\n",
    "DELL.processor='i7'\n",
    "DELL.Ram='16GB'\n",
    "print(HP.price)\n",
    "print(DELL.processor)\n"
   ]
  },
  {
   "cell_type": "code",
   "execution_count": 21,
   "metadata": {},
   "outputs": [
    {
     "name": "stdout",
     "output_type": "stream",
     "text": [
      "50000\n",
      "i7\n"
     ]
    }
   ],
   "source": [
    "class laptop():\n",
    "    def __init__(self):\n",
    "        self.price=''\n",
    "        self.processor=''\n",
    "        self.Ram=''\n",
    "HP=laptop()\n",
    "DELL=laptop()\n",
    "LENOVO=laptop()\n",
    "\n",
    "HP.price=50000\n",
    "DELL.price=60000\n",
    "DELL.processor='i7'\n",
    "DELL.Ram='16GB'\n",
    "print(HP.price)\n",
    "print(DELL.processor)"
   ]
  },
  {
   "cell_type": "code",
   "execution_count": 22,
   "metadata": {},
   "outputs": [
    {
     "name": "stdout",
     "output_type": "stream",
     "text": [
      "John and 30\n",
      "Bonus: 0\n",
      "Alice and 28\n",
      "Bonus: 0\n"
     ]
    }
   ],
   "source": [
    "class employee():\n",
    "    def __init__(self,name,age,salary):\n",
    "        self.name=name\n",
    "        self.age=age\n",
    "        self.salary=salary\n",
    "    def display_info(self):\n",
    "        print(f\"{self.name} and {self.age}\")\n",
    "    def calculate_bonus(self):\n",
    "        return self.salary%10\n",
    "    \n",
    "emp1 = employee(\"John\", 30, 50000)\n",
    "emp2 = employee(\"Alice\", 28, 60000)\n",
    "\n",
    "\n",
    "\n",
    "emp1.display_info()\n",
    "print(\"Bonus:\", emp1.calculate_bonus())  # Output: 5000.0\n",
    "\n",
    "emp2.display_info()\n",
    "print(\"Bonus:\", emp2.calculate_bonus())"
   ]
  },
  {
   "cell_type": "code",
   "execution_count": 24,
   "metadata": {},
   "outputs": [
    {
     "name": "stdout",
     "output_type": "stream",
     "text": [
      "Deposited 500. New balance: 10000500\n",
      "Withdrew 200. New balance: 10000300\n",
      "10000300\n"
     ]
    }
   ],
   "source": [
    "class Bank_Account():\n",
    "    def __init__(self,acc_hold,balanace):\n",
    "        self.acc_hold=acc_hold\n",
    "        self.balance=balanace\n",
    "    def deposit(self,amount):\n",
    "        if amount > 0:\n",
    "            self.balance += amount\n",
    "            print(f\"Deposited {amount}. New balance: {self.balance}\")\n",
    "        else:\n",
    "            print(\"Invalid deposit amount!\")\n",
    "    def withdraw(self,amount):\n",
    "        if amount > 0:\n",
    "            if self.balance >= amount:\n",
    "                self.balance -= amount\n",
    "                print(f\"Withdrew {amount}. New balance: {self.balance}\")\n",
    "            else:\n",
    "                print(\"Insufficient balance!\")\n",
    "        else:\n",
    "            print(\"Invalid withdrawal amount!\")\n",
    "    def get_balance(self):\n",
    "        return self.balance\n",
    "\n",
    "account = Bank_Account(\"Gaja\", 10000000)\n",
    "account.deposit(500)\n",
    "account.withdraw(200)\n",
    "print(account.get_balance())"
   ]
  },
  {
   "cell_type": "code",
   "execution_count": 25,
   "metadata": {},
   "outputs": [
    {
     "name": "stdout",
     "output_type": "stream",
     "text": [
      " the student name is Raj and grade 90\n"
     ]
    }
   ],
   "source": [
    "class student():\n",
    "    def __init__(self,names,grades):\n",
    "        self.names=names\n",
    "        self.grades=grades\n",
    "\n",
    "    def add_grades(self,grades):\n",
    "        return self.grades\n",
    "    def average_grades(self,grades):\n",
    "        self.grades/2\n",
    "    def display_info(self):\n",
    "        print(f\" the student name is {self.names} and grade {self.grades}\")\n",
    "student1=student('Raj',90)\n",
    "student1.add_grades(10)\n",
    "student1.display_info()"
   ]
  },
  {
   "cell_type": "code",
   "execution_count": 26,
   "metadata": {},
   "outputs": [
    {
     "name": "stdout",
     "output_type": "stream",
     "text": [
      "1500\n"
     ]
    }
   ],
   "source": [
    "class BankAccount():\n",
    "    def __init__(self,acc_no,balance,hold_name):\n",
    "        self.acc_no=acc_no\n",
    "        self.balance=balance\n",
    "        self.hold_name=hold_name\n",
    "    def desposit(self,Desposit):\n",
    "        self.balance=self.balance+Desposit\n",
    "        print(self.balance)\n",
    "acc3 = BankAccount(\"Alice Johnson\", 500,\"Hello\") \n",
    "acc3.desposit(1000)"
   ]
  }
 ],
 "metadata": {
  "kernelspec": {
   "display_name": "Python 3",
   "language": "python",
   "name": "python3"
  },
  "language_info": {
   "codemirror_mode": {
    "name": "ipython",
    "version": 3
   },
   "file_extension": ".py",
   "mimetype": "text/x-python",
   "name": "python",
   "nbconvert_exporter": "python",
   "pygments_lexer": "ipython3",
   "version": "3.12.3"
  }
 },
 "nbformat": 4,
 "nbformat_minor": 2
}
