{
 "cells": [
  {
   "cell_type": "markdown",
   "metadata": {},
   "source": [
    "for loop"
   ]
  },
  {
   "cell_type": "code",
   "execution_count": 1,
   "metadata": {},
   "outputs": [
    {
     "name": "stdout",
     "output_type": "stream",
     "text": [
      "1\n",
      "2\n",
      "3\n",
      "4\n",
      "5\n",
      "6\n",
      "7\n",
      "8\n",
      "9\n"
     ]
    }
   ],
   "source": [
    "for i in range(1,10):\n",
    "    print(i)"
   ]
  },
  {
   "cell_type": "code",
   "execution_count": 2,
   "metadata": {},
   "outputs": [
    {
     "name": "stdout",
     "output_type": "stream",
     "text": [
      "1\n",
      "3\n",
      "5\n",
      "7\n",
      "9\n"
     ]
    }
   ],
   "source": [
    "for i in range(1,11,2):\n",
    "    print(i)"
   ]
  },
  {
   "cell_type": "code",
   "execution_count": 3,
   "metadata": {},
   "outputs": [
    {
     "name": "stdout",
     "output_type": "stream",
     "text": [
      "G\n",
      "a\n",
      "j\n",
      "a\n",
      "l\n",
      "a\n",
      "k\n",
      "s\n",
      "h\n",
      "m\n",
      "i\n"
     ]
    }
   ],
   "source": [
    "name=\"Gajalakshmi\"\n",
    "for i in name:\n",
    "    print(i)"
   ]
  },
  {
   "cell_type": "code",
   "execution_count": 4,
   "metadata": {},
   "outputs": [
    {
     "name": "stdout",
     "output_type": "stream",
     "text": [
      "2 not eligible\n",
      "6 not eligible\n",
      "34 eligible\n",
      "23 eligible\n",
      "26 eligible\n",
      "78 eligible\n",
      "90 eligible\n"
     ]
    }
   ],
   "source": [
    "age=[2,6,34,23,26,78,90]\n",
    "for i in age:\n",
    "    if i>18:\n",
    "        print(i,\"eligible\")\n",
    "    else:\n",
    "        print(i,\"not eligible\")"
   ]
  },
  {
   "cell_type": "markdown",
   "metadata": {},
   "source": [
    "sum of n numbers"
   ]
  },
  {
   "cell_type": "code",
   "execution_count": 7,
   "metadata": {},
   "outputs": [
    {
     "name": "stdout",
     "output_type": "stream",
     "text": [
      "0 0\n",
      "1 2\n",
      "2 4\n",
      "3 6\n",
      "4 8\n"
     ]
    }
   ],
   "source": [
    "for i in range(5):\n",
    "    print(i,i+i)"
   ]
  },
  {
   "cell_type": "code",
   "execution_count": 13,
   "metadata": {},
   "outputs": [
    {
     "name": "stdout",
     "output_type": "stream",
     "text": [
      "56\n"
     ]
    }
   ],
   "source": [
    "num=10\n",
    "count=0\n",
    "sum=1\n",
    "while count<=num:\n",
    "    sum=sum+count\n",
    "    count=count+1\n",
    "print(sum)\n"
   ]
  },
  {
   "cell_type": "code",
   "execution_count": 17,
   "metadata": {},
   "outputs": [
    {
     "name": "stdout",
     "output_type": "stream",
     "text": [
      "45\n"
     ]
    }
   ],
   "source": [
    "sum=0\n",
    "for i in range(10): \n",
    "    sum=i+sum\n",
    "print(sum)"
   ]
  },
  {
   "cell_type": "code",
   "execution_count": 22,
   "metadata": {},
   "outputs": [
    {
     "name": "stdout",
     "output_type": "stream",
     "text": [
      "55\n"
     ]
    }
   ],
   "source": [
    "num=int(input(\"enter the no:\"))\n",
    "it=0\n",
    "sum=0\n",
    "while it<=num:\n",
    "    #print(it)\n",
    "    it=it+1\n",
    "    sum=sum+it\n",
    "print(sum)"
   ]
  },
  {
   "cell_type": "markdown",
   "metadata": {},
   "source": [
    "Factorial 5*4*3*2*1"
   ]
  },
  {
   "cell_type": "code",
   "execution_count": 29,
   "metadata": {},
   "outputs": [
    {
     "name": "stdout",
     "output_type": "stream",
     "text": [
      "3628800\n"
     ]
    }
   ],
   "source": [
    "fact=int(input(\"enter the no: \"))\n",
    "count=1\n",
    "mul=1\n",
    "while count<=fact:\n",
    "    #print(count)\n",
    "    mul=mul*count\n",
    "    count+=1\n",
    "print(mul)"
   ]
  },
  {
   "cell_type": "markdown",
   "metadata": {},
   "source": [
    "reverse a string"
   ]
  },
  {
   "cell_type": "code",
   "execution_count": 40,
   "metadata": {},
   "outputs": [
    {
     "name": "stdout",
     "output_type": "stream",
     "text": [
      "imhskalajaG \n"
     ]
    }
   ],
   "source": [
    "name=\"Gajalakshmi\"\n",
    "l=\" \"\n",
    "for i in name:\n",
    "    l=i+l\n",
    "print(l)"
   ]
  },
  {
   "cell_type": "markdown",
   "metadata": {},
   "source": [
    "count vowels in the string"
   ]
  },
  {
   "cell_type": "code",
   "execution_count": 63,
   "metadata": {},
   "outputs": [
    {
     "name": "stdout",
     "output_type": "stream",
     "text": [
      "5\n"
     ]
    }
   ],
   "source": [
    "string=\"Education\"\n",
    "vowels = \"aeiouAEIOU\"\n",
    "count = 0\n",
    "for char in string:\n",
    "    if char in vowels:       \n",
    "        count=count+1\n",
    "print(f\"{count}\")"
   ]
  },
  {
   "cell_type": "markdown",
   "metadata": {},
   "source": [
    "prime numbers"
   ]
  },
  {
   "cell_type": "code",
   "execution_count": null,
   "metadata": {},
   "outputs": [],
   "source": [
    "for num in range(50):\n",
    "    if num%2!=0:\n",
    "        if num%3!=0:\n",
    "            if num%5!=0:\n",
    "                print(\"prime number\")\n",
    "            else:\n",
    "                print(\"not a prime\")\n",
    "        else:\n",
    "            print(\"not a prime number\")\n",
    "    else:\n",
    "        print(\"not a prime\")\n",
    "        \n"
   ]
  },
  {
   "cell_type": "code",
   "execution_count": 74,
   "metadata": {},
   "outputs": [
    {
     "name": "stdout",
     "output_type": "stream",
     "text": [
      "prime number\n"
     ]
    }
   ],
   "source": [
    "num=int(input(\"enter the no: \"))\n",
    "if num%2!=0:\n",
    "    if num%3!=0:\n",
    "        if num%5!=0:\n",
    "            print(\"prime number\")\n",
    "        else:\n",
    "            print(\"not a prime\")\n",
    "    else:\n",
    "        print(\"not a prime number\")\n",
    "else:\n",
    "    print(\"not a prime\")"
   ]
  },
  {
   "cell_type": "code",
   "execution_count": 80,
   "metadata": {},
   "outputs": [
    {
     "name": "stdout",
     "output_type": "stream",
     "text": [
      "Prime number\n"
     ]
    }
   ],
   "source": [
    "num=int(input(\"enter the no: \"))\n",
    "if num%2!=0 and num%3!=0 and num%5!=0:\n",
    "    print(\"Prime number\")\n",
    "else:\n",
    "    print(\"not a prime\")"
   ]
  },
  {
   "cell_type": "code",
   "execution_count": 96,
   "metadata": {},
   "outputs": [
    {
     "name": "stdout",
     "output_type": "stream",
     "text": [
      "not a prime\n"
     ]
    }
   ],
   "source": [
    "num = int(input(\"Enter the number: \"))\n",
    "for i in range(2,num):\n",
    "    if num%i==0:\n",
    "        print(\"not a prime\")\n",
    "        break\n",
    "else:\n",
    "    print(\"prime number\")"
   ]
  },
  {
   "cell_type": "code",
   "execution_count": 92,
   "metadata": {},
   "outputs": [
    {
     "name": "stdout",
     "output_type": "stream",
     "text": [
      "Not a prime number\n"
     ]
    }
   ],
   "source": [
    "num = int(input(\"Enter the number: \"))\n",
    "if num <= 1:\n",
    "    print(\"Not a prime number\")  # Prime numbers are greater than 1\n",
    "else:\n",
    "    for i in range(2, int(num ** 0.5) + 1):  # Check divisors up to the square root of the number\n",
    "        if num % i == 0:\n",
    "            print(\"Not a prime number\")\n",
    "            break  # Exit the loop once a divisor is found\n",
    "    else:\n",
    "        print(\"Prime number\")"
   ]
  },
  {
   "cell_type": "markdown",
   "metadata": {},
   "source": [
    "Fibonacci series"
   ]
  },
  {
   "cell_type": "code",
   "execution_count": 82,
   "metadata": {},
   "outputs": [
    {
     "name": "stdout",
     "output_type": "stream",
     "text": [
      "0\n",
      "1\n",
      "3\n",
      "6\n",
      "10\n",
      "15\n"
     ]
    }
   ],
   "source": [
    "num=int(input(\"enter the no: \"))\n",
    "count=0\n",
    "sum=0\n",
    "while count<=num:\n",
    "    sum=count+sum\n",
    "    print(sum)\n",
    "    count=count+1\n",
    "\n",
    "\n"
   ]
  },
  {
   "cell_type": "markdown",
   "metadata": {},
   "source": [
    "fibonacci series"
   ]
  },
  {
   "cell_type": "code",
   "execution_count": 115,
   "metadata": {},
   "outputs": [
    {
     "name": "stdout",
     "output_type": "stream",
     "text": [
      "0\n",
      "1\n",
      "1\n",
      "2\n",
      "3\n",
      "5\n",
      "8\n",
      "13\n",
      "21\n"
     ]
    }
   ],
   "source": [
    "num=int(input(\"enter the no: \"))\n",
    "a=0\n",
    "b=1\n",
    "print(a)\n",
    "print(b)\n",
    "for i in range(0,num):\n",
    "    c=a+b\n",
    "    a=b\n",
    "    b=c\n",
    "    print(c)\n",
    "\n",
    "\n",
    "\n",
    "\n"
   ]
  },
  {
   "cell_type": "markdown",
   "metadata": {},
   "source": [
    "pattern printing"
   ]
  },
  {
   "cell_type": "code",
   "execution_count": 104,
   "metadata": {},
   "outputs": [
    {
     "name": "stdout",
     "output_type": "stream",
     "text": [
      "*\n",
      "**\n",
      "***\n",
      "****\n",
      "*****\n",
      "******\n"
     ]
    }
   ],
   "source": [
    "n=int(input(\"Enter the no \"))\n",
    "st='*'\n",
    "count=0\n",
    "while count<=n:\n",
    "    count=count+1\n",
    "    print(st)\n",
    "    st+='*'"
   ]
  },
  {
   "cell_type": "code",
   "execution_count": 123,
   "metadata": {},
   "outputs": [
    {
     "name": "stdout",
     "output_type": "stream",
     "text": [
      "15\n"
     ]
    }
   ],
   "source": [
    "n=12345\n",
    "count=0\n",
    "for i in str(n):\n",
    "    count=count+int(i)\n",
    "print(count)\n",
    "        \n"
   ]
  },
  {
   "cell_type": "markdown",
   "metadata": {},
   "source": [
    "Palindrome ex:madam"
   ]
  },
  {
   "cell_type": "code",
   "execution_count": 125,
   "metadata": {},
   "outputs": [
    {
     "name": "stdout",
     "output_type": "stream",
     "text": [
      "not a palindrome\n"
     ]
    }
   ],
   "source": [
    "string=input(\"enter the text:\")\n",
    "palin=string[::-1]\n",
    "if string==palin:\n",
    "    print(\"palindrome\")\n",
    "else:\n",
    "    print(\"not a palindrome\")"
   ]
  },
  {
   "cell_type": "code",
   "execution_count": 153,
   "metadata": {},
   "outputs": [
    {
     "name": "stdout",
     "output_type": "stream",
     "text": [
      "Not a palindrome\n"
     ]
    }
   ],
   "source": [
    "string=input(\"enter the text:\")\n",
    "rev=\" \"\n",
    "for i in string:\n",
    "    \n",
    "    rev=i+rev\n",
    "\n",
    "if rev == string:\n",
    "    print(\"Palindrome\")\n",
    "else:\n",
    "    print(\"Not a palindrome\")\n",
    "\n",
    "\n",
    "\n"
   ]
  },
  {
   "cell_type": "code",
   "execution_count": 152,
   "metadata": {},
   "outputs": [
    {
     "name": "stdout",
     "output_type": "stream",
     "text": [
      "Palindrome\n"
     ]
    }
   ],
   "source": [
    "string = input(\"Enter the text: \")\n",
    "rev = \"\"\n",
    "\n",
    "for i in string:\n",
    "    rev = i + rev  # Reverse the string by adding characters to the front.\n",
    "\n",
    "# Check if the reversed string is equal to the original string.\n",
    "if rev == string:\n",
    "    print(\"Palindrome\")\n",
    "else:\n",
    "    print(\"Not a palindrome\")\n"
   ]
  },
  {
   "cell_type": "code",
   "execution_count": 161,
   "metadata": {},
   "outputs": [
    {
     "name": "stdout",
     "output_type": "stream",
     "text": [
      "Transposed Matrix:\n",
      "[1, 3, 5]\n",
      "[2, 4, 6]\n"
     ]
    }
   ],
   "source": [
    "# Input matrix\n",
    "matrix = [\n",
    "    [1, 2],\n",
    "    [3, 4],\n",
    "    [5, 6]\n",
    "]\n",
    "\n",
    "# Transpose the matrix\n",
    "transposed = []\n",
    "for col in range(len(matrix[0])):\n",
    "    transposed.append([row[col] for row in matrix])\n",
    "\n",
    "# Output the transposed matrix\n",
    "print(\"Transposed Matrix:\")\n",
    "for row in transposed:\n",
    "    print(row)\n"
   ]
  },
  {
   "cell_type": "code",
   "execution_count": 166,
   "metadata": {},
   "outputs": [
    {
     "name": "stdout",
     "output_type": "stream",
     "text": [
      "9\n"
     ]
    }
   ],
   "source": [
    "number=[5,7,8,9]\n",
    "sum=[]\n",
    "for i in number:\n",
    "    sum.append(i)\n",
    "print(max(sum))\n",
    "    \n",
    " "
   ]
  },
  {
   "cell_type": "code",
   "execution_count": 177,
   "metadata": {},
   "outputs": [
    {
     "name": "stdout",
     "output_type": "stream",
     "text": [
      "9\n"
     ]
    }
   ],
   "source": [
    "sentence=\"The quick brown fox jumps over the lazy dog\"\n",
    "word=sentence.split()\n",
    "for i in word:\n",
    "    largest=(len(word))\n",
    "print(largest)"
   ]
  },
  {
   "cell_type": "code",
   "execution_count": 184,
   "metadata": {},
   "outputs": [
    {
     "name": "stdout",
     "output_type": "stream",
     "text": [
      "[2, 1]\n"
     ]
    }
   ],
   "source": [
    "\n",
    "numbers = [1, 2, 3, 2, 4, 5, 1]\n",
    "duplicates = []\n",
    "\n",
    "# To track seen elements\n",
    "seen = set()\n",
    "\n",
    "for num in numbers:\n",
    "    if num in seen:\n",
    "        if num not in duplicates:\n",
    "            duplicates.append(num)  # Add to duplicates if it's not already there\n",
    "    else:\n",
    "        seen.add(num)  # Mark the number as seen\n",
    "\n",
    "# Output the duplicates\n",
    "print(duplicates)\n"
   ]
  },
  {
   "cell_type": "code",
   "execution_count": 185,
   "metadata": {},
   "outputs": [
    {
     "name": "stdout",
     "output_type": "stream",
     "text": [
      "Parsed Data:\n",
      "['Name', 'Age', 'Location']\n",
      "['Alice', '25', 'NYC']\n",
      "['Bob', '30', 'LA']\n"
     ]
    }
   ],
   "source": [
    "# Input CSV string\n",
    "csv_data = \"Name,Age,Location\\nAlice,25,NYC\\nBob,30,LA\"\n",
    "rows = csv_data.split(\"\\n\")\n",
    "parsed_data = []\n",
    "for row in rows:\n",
    "    # Split the row into columns and append to parsed_data\n",
    "    parsed_data.append(row.split(\",\"))\n",
    "\n",
    "# Output the parsed data\n",
    "print(\"Parsed Data:\")\n",
    "for row in parsed_data:\n",
    "    print(row)\n"
   ]
  }
 ],
 "metadata": {
  "kernelspec": {
   "display_name": "Python 3",
   "language": "python",
   "name": "python3"
  },
  "language_info": {
   "codemirror_mode": {
    "name": "ipython",
    "version": 3
   },
   "file_extension": ".py",
   "mimetype": "text/x-python",
   "name": "python",
   "nbconvert_exporter": "python",
   "pygments_lexer": "ipython3",
   "version": "3.12.3"
  }
 },
 "nbformat": 4,
 "nbformat_minor": 2
}
