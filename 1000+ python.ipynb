{
 "cells": [
  {
   "cell_type": "code",
   "execution_count": null,
   "id": "fe0a4aa3",
   "metadata": {},
   "outputs": [
    {
     "name": "stdout",
     "output_type": "stream",
     "text": [
      "20\n"
     ]
    }
   ],
   "source": [
    "#1. Sum of Even Numbers in a list\n",
    "def sum_Even(lst):\n",
    "    sum=0\n",
    "    for i in lst:\n",
    "        if i%2==0:\n",
    "            sum=sum+i\n",
    "    return sum\n",
    "sum=sum_Even(lst=[1,2,3,4,5,6,7,8])\n",
    "print(sum)"
   ]
  },
  {
   "cell_type": "code",
   "execution_count": 18,
   "id": "4567e771",
   "metadata": {},
   "outputs": [
    {
     "name": "stdout",
     "output_type": "stream",
     "text": [
      "Minimum: 1, Maximum: 8\n"
     ]
    }
   ],
   "source": [
    "#2.Find Maximum and Minimum in a List\n",
    "def min_max(lst):\n",
    "    min_val=lst[0]\n",
    "    max_val=lst[0]\n",
    "    for i in lst:\n",
    "        if i<min_val:\n",
    "            min_val=i\n",
    "        elif i>min_val:\n",
    "            max_val=i\n",
    "    return min_val,max_val\n",
    "minimum, maximum = min_max(lst=[1, 2, 3, 4, 5, 6, 7, 8])\n",
    "print(f\"Minimum: {minimum}, Maximum: {maximum}\")\n",
    "    \n",
    "    "
   ]
  },
  {
   "cell_type": "code",
   "execution_count": 19,
   "id": "56413231",
   "metadata": {},
   "outputs": [
    {
     "data": {
      "text/plain": [
       "[8, 7, 6, 5, 4, 3, 2, 1]"
      ]
     },
     "execution_count": 19,
     "metadata": {},
     "output_type": "execute_result"
    }
   ],
   "source": [
    "#3.Reverse a List\n",
    "def reverse(lst):\n",
    "    rev=lst[::-1]\n",
    "    return rev\n",
    "reverse(lst=[1, 2, 3, 4, 5, 6, 7, 8])\n"
   ]
  },
  {
   "cell_type": "code",
   "execution_count": null,
   "id": "4bc2cb0c",
   "metadata": {},
   "outputs": [
    {
     "data": {
      "text/plain": [
       "False"
      ]
     },
     "execution_count": 23,
     "metadata": {},
     "output_type": "execute_result"
    }
   ],
   "source": [
    "#4.Check if a List is Sorted\n",
    "def sorted_check(lst):\n",
    "    sort=sorted(lst)\n",
    "    if sort==lst:\n",
    "        return True\n",
    "    else:\n",
    "        return False\n",
    "sorted_check(lst=[1, 2, 4, 3, 5, 6, 7, 8])"
   ]
  },
  {
   "cell_type": "code",
   "execution_count": 24,
   "id": "df3a2d06",
   "metadata": {},
   "outputs": [
    {
     "data": {
      "text/plain": [
       "[1, 2, 3, 4, 5, 6, 7, 8]"
      ]
     },
     "execution_count": 24,
     "metadata": {},
     "output_type": "execute_result"
    }
   ],
   "source": [
    "#5.Remove Duplicates from a List\n",
    "def remove_dup(lst):\n",
    "    dup=list(set(lst))\n",
    "    return list(dup)\n",
    "remove_dup(lst=[1, 2,2, 4, 3, 3, 5,5, 6, 7, 8])"
   ]
  },
  {
   "cell_type": "code",
   "execution_count": 27,
   "id": "468772da",
   "metadata": {},
   "outputs": [
    {
     "data": {
      "text/plain": [
       "[1, 2, 3, 4, 5, 6]"
      ]
     },
     "execution_count": 27,
     "metadata": {},
     "output_type": "execute_result"
    }
   ],
   "source": [
    "#6.Merge Two Lists\n",
    "def merge_lst(lst1,lst2):\n",
    "    lstn=lst1+lst2\n",
    "    return lstn\n",
    "merge_lst(lst1=[1,2,3,],lst2=[4,5,6])"
   ]
  },
  {
   "cell_type": "code",
   "execution_count": null,
   "id": "d051f00b",
   "metadata": {},
   "outputs": [
    {
     "name": "stdout",
     "output_type": "stream",
     "text": [
      "3\n"
     ]
    }
   ],
   "source": [
    "#7.Find the Index of a Specific Element\n",
    "def find_index(lst, element):\n",
    "    for i, j in enumerate(lst):\n",
    "        if j == element:\n",
    "            return i  \n",
    "    return -1  \n",
    "\n",
    "index_of_element = find_index(lst=[1, 2, 4, 3, 5, 6, 7, 8], element=3)\n",
    "print(index_of_element)"
   ]
  },
  {
   "cell_type": "code",
   "execution_count": 13,
   "id": "c5052db2",
   "metadata": {},
   "outputs": [
    {
     "data": {
      "text/plain": [
       "4"
      ]
     },
     "execution_count": 13,
     "metadata": {},
     "output_type": "execute_result"
    }
   ],
   "source": [
    "#8.Find the Most Frequent Element in a List\n",
    "from collections import Counter\n",
    "def most_freq(lst,ele):\n",
    "\n",
    "    count=Counter(lst)\n",
    "    \n",
    "    if ele in lst:\n",
    "        return (count[ele])\n",
    "most_freq(lst = [1, 1, 2, 2, 1, 4, 3, 3, 1, 5, 5, 6, 7, 8],ele=1)"
   ]
  },
  {
   "cell_type": "code",
   "execution_count": 20,
   "metadata": {},
   "outputs": [
    {
     "data": {
      "text/plain": [
       "7"
      ]
     },
     "execution_count": 20,
     "metadata": {},
     "output_type": "execute_result"
    }
   ],
   "source": [
    "#9.Find the Second Largest Element in a List\n",
    "def second_lar(lst):\n",
    "    large=sorted(lst)\n",
    "    second=large[-2]\n",
    "    return second\n",
    "second_lar(lst=[1, 2, 4, 3, 5, 6, 7, 8])\n"
   ]
  },
  {
   "cell_type": "code",
   "execution_count": 32,
   "metadata": {},
   "outputs": [
    {
     "data": {
      "text/plain": [
       "21"
      ]
     },
     "execution_count": 32,
     "metadata": {},
     "output_type": "execute_result"
    }
   ],
   "source": [
    "#10.Sum of Nested Lists\n",
    "def flatten(lst):\n",
    "    sum=0\n",
    "    lst=[i for sublist in lst for i in sublist]\n",
    "    for add in lst:\n",
    "        sum=sum+add\n",
    "    return sum\n",
    "\n",
    "flatten(lst=[[1, 2], [3, 4], [5, 6]])\n"
   ]
  },
  {
   "cell_type": "code",
   "execution_count": null,
   "metadata": {},
   "outputs": [
    {
     "name": "stdout",
     "output_type": "stream",
     "text": [
      "True\n"
     ]
    }
   ],
   "source": [
    "#11.Check if a List Contains a Sublist\n",
    "main_list = [1, 2, 3, 4, 5, 6]\n",
    "sublist = 3\n",
    "\n",
    "if sublist in main_list:\n",
    "    print(\"True\")\n",
    "else:\n",
    "    print(\"False\")"
   ]
  },
  {
   "cell_type": "code",
   "execution_count": null,
   "id": "f922241e",
   "metadata": {},
   "outputs": [
    {
     "name": "stdout",
     "output_type": "stream",
     "text": [
      "3 True\n",
      "4 True\n"
     ]
    }
   ],
   "source": [
    "\n",
    "def contains_sublist(main_list, sublist):\n",
    "    n, m = len(main_list), len(sublist)\n",
    "    \n",
    "    # Check each window in the main_list that is the same size as the sublist\n",
    "    for i in range(n - m + 1):\n",
    "        if main_list[i:i + m] == sublist:\n",
    "            return True\n",
    "    return False\n",
    "\n",
    "# Example usage:\n",
    "sublist = [3, 4]\n",
    "main_list = [1, 2, 3, 4, 5, 6]\n",
    "print(contains_sublist(main_list, sublist))  # Output: True\n",
    "\n",
    "sublist2 = [7, 8]\n",
    "print(contains_sublist(main_list, sublist2))  # Output: False\n",
    "#pending"
   ]
  },
  {
   "cell_type": "code",
   "execution_count": 42,
   "id": "f5966d4d",
   "metadata": {},
   "outputs": [
    {
     "name": "stdout",
     "output_type": "stream",
     "text": [
      "[1, 0, 2, 3, 0, 4, 5, 0]\n",
      "[1, 0, 2, 3, 0, 4, 5, 0]\n",
      "[1, 0, 2, 3, 0, 4, 5, 0]\n"
     ]
    }
   ],
   "source": [
    "#12.Move All Zeros to the End\n",
    "lst=[1, 0, 2, 3, 0, 4, 5, 6]\n",
    "for i in lst:\n",
    "    if i==0:\n",
    "        lst[-1]=i\n",
    "        print(lst)\n"
   ]
  },
  {
   "cell_type": "code",
   "execution_count": 1,
   "id": "33f3c188",
   "metadata": {},
   "outputs": [
    {
     "data": {
      "text/plain": [
       "Counter({1: 3, 2: 3, 3: 2, 4: 1, 5: 1, 6: 1, 7: 1, 8: 1})"
      ]
     },
     "execution_count": 1,
     "metadata": {},
     "output_type": "execute_result"
    }
   ],
   "source": [
    "#13.Count Occurrences of Each Element \n",
    "from collections import Counter\n",
    "def collect(lst):\n",
    "    count=Counter(lst)\n",
    "    return count\n",
    "collect(lst=[1,1,2,2,3,4,5,6,7,8,1,2,3])"
   ]
  },
  {
   "cell_type": "code",
   "execution_count": 3,
   "id": "d75ddd5e",
   "metadata": {},
   "outputs": [
    {
     "data": {
      "text/plain": [
       "[3]"
      ]
     },
     "execution_count": 3,
     "metadata": {},
     "output_type": "execute_result"
    }
   ],
   "source": [
    "#14.Find common elements between two lists\n",
    "def common(lst1,lst2):\n",
    "    ele=list(set(lst1)&set(lst2))\n",
    "    return ele\n",
    "common(lst1=[1,2,3],lst2=[3,4,5])"
   ]
  },
  {
   "cell_type": "code",
   "execution_count": 9,
   "id": "f07a8757",
   "metadata": {},
   "outputs": [
    {
     "data": {
      "text/plain": [
       "[1, 2, 3, 4, 5, 6]"
      ]
     },
     "execution_count": 9,
     "metadata": {},
     "output_type": "execute_result"
    }
   ],
   "source": [
    "#15.Flatten a Nested List \n",
    "def flatten(lst):\n",
    "    flat=[x for sub in lst for x in sub]\n",
    "    return flat\n",
    "flatten(lst=[[1, 2], [3, 4,], [5, 6]])"
   ]
  },
  {
   "cell_type": "code",
   "execution_count": 11,
   "id": "52ea81ba",
   "metadata": {},
   "outputs": [
    {
     "data": {
      "text/plain": [
       "[1, 2]"
      ]
     },
     "execution_count": 11,
     "metadata": {},
     "output_type": "execute_result"
    }
   ],
   "source": [
    "#16.Find the Difference Between Two Lists\n",
    "def diff(lst1,lst2):\n",
    "    ele=list(set(lst1)-set(lst2))\n",
    "    return ele\n",
    "diff(lst1=[1,2,3],lst2=[3,4,5])"
   ]
  },
  {
   "cell_type": "code",
   "execution_count": 24,
   "id": "5e4fdddf",
   "metadata": {},
   "outputs": [
    {
     "data": {
      "text/plain": [
       "[4, 5, 1, 2, 3]"
      ]
     },
     "execution_count": 24,
     "metadata": {},
     "output_type": "execute_result"
    }
   ],
   "source": [
    "#17.Rotate a List\n",
    "def rotate(lst,k):\n",
    "    k=k%len(lst)\n",
    "    rot=lst[-k:]+lst[:-k]\n",
    "    return rot\n",
    "rotate(lst=[1,2,3,4,5],k=2)"
   ]
  },
  {
   "cell_type": "code",
   "execution_count": 28,
   "id": "f50c3bc2",
   "metadata": {},
   "outputs": [
    {
     "data": {
      "text/plain": [
       "True"
      ]
     },
     "execution_count": 28,
     "metadata": {},
     "output_type": "execute_result"
    }
   ],
   "source": [
    "#18.Check if List is Palindrome\n",
    "def palindrome(txt):\n",
    "    rev=txt[::-1]\n",
    "    if txt==rev:\n",
    "        return True\n",
    "    else:\n",
    "        return False\n",
    "palindrome(txt=\"madam\")"
   ]
  },
  {
   "cell_type": "code",
   "execution_count": 30,
   "id": "4c69a414",
   "metadata": {},
   "outputs": [
    {
     "data": {
      "text/plain": [
       "list[{3}]"
      ]
     },
     "execution_count": 30,
     "metadata": {},
     "output_type": "execute_result"
    }
   ],
   "source": [
    "#19.Find the Intersection of Multiple Lists\n",
    "def intersec(lst1,lst2,lst3):\n",
    "    inter_sec=list[set(lst1)&set(lst2)&set(lst3)]\n",
    "    return inter_sec\n",
    "intersec(lst1=[1,2,3],lst2=[3,4],lst3=[3,4,5])\n",
    "\n"
   ]
  },
  {
   "cell_type": "code",
   "execution_count": 34,
   "id": "0be5022a",
   "metadata": {},
   "outputs": [
    {
     "data": {
      "text/plain": [
       "20"
      ]
     },
     "execution_count": 34,
     "metadata": {},
     "output_type": "execute_result"
    }
   ],
   "source": [
    "#20.Find the Sum of Elements at Even Indices\n",
    "def sum_even():\n",
    "    sum=0\n",
    "    for i in range(10):\n",
    "        if i%2==0:\n",
    "            sum=sum+i\n",
    "    return sum\n",
    "sum_even()"
   ]
  },
  {
   "cell_type": "code",
   "execution_count": 2,
   "id": "6b765ac3",
   "metadata": {},
   "outputs": [
    {
     "data": {
      "text/plain": [
       "6"
      ]
     },
     "execution_count": 2,
     "metadata": {},
     "output_type": "execute_result"
    }
   ],
   "source": [
    "#21.Find the Product of All Elements in a List\n",
    "def product(lst):\n",
    "    prod=1\n",
    "    for i in lst:\n",
    "        prod=prod*i\n",
    "    return prod\n",
    "product(lst=[1,2,3])"
   ]
  },
  {
   "cell_type": "code",
   "execution_count": 10,
   "id": "e8773b6d",
   "metadata": {},
   "outputs": [
    {
     "data": {
      "text/plain": [
       "[1, 3, 4, 5]"
      ]
     },
     "execution_count": 10,
     "metadata": {},
     "output_type": "execute_result"
    }
   ],
   "source": [
    "#22.Remove All Occurrences of a Given Element\n",
    "def remove(lst,k):\n",
    "    rem=[]\n",
    "    for i in lst:\n",
    "        if i!=k:\n",
    "            rem.append(i)\n",
    "    return rem\n",
    "\n",
    "remove(lst=[1,2,3,4,2,5,2],k=2)\n"
   ]
  },
  {
   "cell_type": "code",
   "execution_count": 14,
   "id": "61ddf8bf",
   "metadata": {},
   "outputs": [
    {
     "name": "stdout",
     "output_type": "stream",
     "text": [
      "[[1, 2], [3, 4], [5, 6]]\n"
     ]
    }
   ],
   "source": [
    "#23.Split a List into Chunks\n",
    "#[1,2,3,4,5,6], n = 2 → [[1,2], [3,4], [5,6]]\n",
    "def split_into_chunks(lst, n):\n",
    "    chunks = []\n",
    "    for i in range(0, len(lst), n):\n",
    "        chunks.append(lst[i:i + n])\n",
    "    return chunks\n",
    "\n",
    "print(split_into_chunks([1, 2, 3, 4, 5, 6], 2))\n"
   ]
  },
  {
   "cell_type": "code",
   "execution_count": null,
   "id": "11ef6a8c",
   "metadata": {},
   "outputs": [
    {
     "data": {
      "text/plain": [
       "({2}, {3})"
      ]
     },
     "execution_count": 16,
     "metadata": {},
     "output_type": "execute_result"
    }
   ],
   "source": [
    "#24.Find Pairs with Given Sum\n",
    "def pairs(lst,target):\n",
    "    for i in range(len(lst)-1):\n",
    "        if lst[i]+lst[i+1]==target:\n",
    "            return {lst[i]},{lst[i+1]}\n",
    "        \n",
    "pairs(lst=[1,2,3,4],target=5)\n",
    "\n"
   ]
  },
  {
   "cell_type": "code",
   "execution_count": 17,
   "id": "ff6944a2",
   "metadata": {},
   "outputs": [
    {
     "name": "stdout",
     "output_type": "stream",
     "text": [
      "[(1, 4), (2, 3)]\n"
     ]
    }
   ],
   "source": [
    "def find_pairs(lst, target):\n",
    "    result = []\n",
    "    for i in range(len(lst)):\n",
    "        for j in range(i + 1, len(lst)):\n",
    "            if lst[i] + lst[j] == target:\n",
    "                result.append((lst[i], lst[j]))\n",
    "    return result\n",
    "\n",
    "# Example\n",
    "print(find_pairs([1, 2, 3, 4], 5))  \n",
    "# Output: [(1, 4), (2, 3)]\n"
   ]
  },
  {
   "cell_type": "code",
   "execution_count": 21,
   "id": "517792e1",
   "metadata": {},
   "outputs": [
    {
     "data": {
      "text/plain": [
       "2"
      ]
     },
     "execution_count": 21,
     "metadata": {},
     "output_type": "execute_result"
    }
   ],
   "source": [
    "#25.Find the First Non-Repeating Element\n",
    "def non_repeat(lst):\n",
    "    for i in lst:\n",
    "        if lst.count(i)==1:\n",
    "            return i\n",
    "    \n",
    "            \n",
    "non_repeat(lst=[1,1,2,3,3])\n"
   ]
  },
  {
   "cell_type": "code",
   "execution_count": 22,
   "id": "45821d9b",
   "metadata": {},
   "outputs": [
    {
     "name": "stdout",
     "output_type": "stream",
     "text": [
      "6\n",
      "7\n",
      "8\n"
     ]
    }
   ],
   "source": [
    "#26.Count Number of Elements Greater Than a Given number\n",
    "def count_num(lst,target):\n",
    "    for i in lst:\n",
    "        if i>target:\n",
    "            print(i)\n",
    "count_num([1, 2, 3,4,5,6,7,8], 5)\n",
    "\n"
   ]
  },
  {
   "cell_type": "code",
   "execution_count": 34,
   "id": "686a35d3",
   "metadata": {},
   "outputs": [
    {
     "name": "stdout",
     "output_type": "stream",
     "text": [
      "[1, 3, 4]\n"
     ]
    }
   ],
   "source": [
    "#27.Find All Duplicates in a List\n",
    "def find_duplicates(lst):\n",
    "    duplicates = []\n",
    "    for item in lst:\n",
    "        if lst.count(item) > 1 and item not in duplicates:\n",
    "            duplicates.append(item)\n",
    "    return duplicates\n",
    "\n",
    "# Example\n",
    "print(find_duplicates([1, 1, 2, 3, 3, 4, 4]))\n",
    "# Output: [1, 3, 4]\n"
   ]
  },
  {
   "cell_type": "code",
   "execution_count": 39,
   "id": "b1bd4c1a",
   "metadata": {},
   "outputs": [
    {
     "data": {
      "text/plain": [
       "[1, 2, 3, 4, 5, 6]"
      ]
     },
     "execution_count": 39,
     "metadata": {},
     "output_type": "execute_result"
    }
   ],
   "source": [
    "#28.combine Two Lists\n",
    "def combine(lst1,lst2):\n",
    "    lst=lst1+lst2\n",
    "    return sorted(lst)\n",
    "combine([1,3,5], [2,4,6])\n",
    "#o/p[1,2,3,4,5,6]\n"
   ]
  },
  {
   "cell_type": "code",
   "execution_count": 55,
   "id": "0fb78136",
   "metadata": {},
   "outputs": [
    {
     "data": {
      "text/plain": [
       "[1, 2, 3]"
      ]
     },
     "execution_count": 55,
     "metadata": {},
     "output_type": "execute_result"
    }
   ],
   "source": [
    "#29.Remove Negative Numbers from a List\n",
    "def remove_neg(lst):\n",
    "    new_lst=[]\n",
    "    for i in lst:\n",
    "        if i>0:\n",
    "            new_lst.append(i)\n",
    "    return new_lst\n",
    "           \n",
    "remove_neg([-1,-2,-3,1,2,3])"
   ]
  },
  {
   "cell_type": "code",
   "execution_count": 60,
   "id": "06d38aad",
   "metadata": {},
   "outputs": [
    {
     "name": "stdout",
     "output_type": "stream",
     "text": [
      "2\n",
      "5\n"
     ]
    }
   ],
   "source": [
    "#30.Get All Unique Elements from a List\n",
    "from collections import Counter\n",
    "def unique_ele(lst):  \n",
    "    count=Counter(lst)\n",
    "    for i,j in count.items():\n",
    "        if j==1:\n",
    "            print(i)\n",
    "\n",
    "unique_ele([1, 1, 2, 3, 3, 4, 4,5])\n"
   ]
  },
  {
   "cell_type": "code",
   "execution_count": null,
   "id": "f6668adf",
   "metadata": {},
   "outputs": [
    {
     "data": {
      "text/plain": [
       "[5, 2, 3, 4, 1]"
      ]
     },
     "execution_count": 61,
     "metadata": {},
     "output_type": "execute_result"
    }
   ],
   "source": [
    "#31.Swap First and Last Element\n",
    "def swap(lst):\n",
    "    lst[0],lst[-1]=lst[-1],lst[0]\n",
    "    return lst\n",
    "swap([1,2,3,4,5])\n"
   ]
  },
  {
   "cell_type": "code",
   "execution_count": 67,
   "id": "46baa291",
   "metadata": {},
   "outputs": [
    {
     "data": {
      "text/plain": [
       "3.0"
      ]
     },
     "execution_count": 67,
     "metadata": {},
     "output_type": "execute_result"
    }
   ],
   "source": [
    "#32.Calculate Average of List Elements\n",
    "def avg(lst):\n",
    "    sum=0\n",
    "    for i in lst:\n",
    "        sum=sum+i\n",
    "    return sum/len(lst)\n",
    "\n",
    "avg([1,2,3,4,5])"
   ]
  },
  {
   "cell_type": "code",
   "execution_count": null,
   "id": "97655e64",
   "metadata": {},
   "outputs": [
    {
     "data": {
      "text/plain": [
       "5"
      ]
     },
     "execution_count": 66,
     "metadata": {},
     "output_type": "execute_result"
    }
   ],
   "source": [
    "#33.Insert an Element at a Specific Position\n",
    "def Insert_ele(lst):\n",
    "    lst.index()\n",
    "Insert_ele([1,2,3,4,5])"
   ]
  },
  {
   "cell_type": "code",
   "execution_count": 46,
   "id": "ce346f3e",
   "metadata": {},
   "outputs": [
    {
     "data": {
      "text/plain": [
       "[[1, 2],\n",
       " [1, 3],\n",
       " [1, 4],\n",
       " [1, 5],\n",
       " [2, 3],\n",
       " [2, 4],\n",
       " [2, 5],\n",
       " [3, 4],\n",
       " [3, 5],\n",
       " [4, 5]]"
      ]
     },
     "execution_count": 46,
     "metadata": {},
     "output_type": "execute_result"
    }
   ],
   "source": [
    "#34.Find All Combinations of List Elements\n",
    "def comb(lst):\n",
    "    result=[]\n",
    "    for i in range(len(lst)):\n",
    "        for j in range(i+1,len(lst)):\n",
    "            result.append([lst[i],lst[j]])\n",
    "    return result\n",
    "\n",
    "comb([1,2,3,4,5])"
   ]
  },
  {
   "cell_type": "code",
   "execution_count": 8,
   "id": "146f4d51",
   "metadata": {},
   "outputs": [
    {
     "name": "stdout",
     "output_type": "stream",
     "text": [
      "True\n",
      "False\n"
     ]
    }
   ],
   "source": [
    "#35.Check if Any Subarray Sums to Zero\n",
    "def sum_subarray(lst):\n",
    "    prefix_sum = 0\n",
    "    seen_sums = set()\n",
    "\n",
    "    for num in lst:\n",
    "        prefix_sum += num\n",
    "        if prefix_sum == 0 or prefix_sum in seen_sums:\n",
    "            return True\n",
    "        seen_sums.add(prefix_sum)\n",
    "\n",
    "    return False\n",
    "print(sum_subarray(lst=[4, 2, -3, 1, 6]))\n",
    "print(sum_subarray(lst=[1,2,3]))\n"
   ]
  },
  {
   "cell_type": "code",
   "execution_count": 52,
   "metadata": {},
   "outputs": [
    {
     "data": {
      "text/plain": [
       "[2, 3, 4, 5, 1]"
      ]
     },
     "execution_count": 52,
     "metadata": {},
     "output_type": "execute_result"
    }
   ],
   "source": [
    "#36.Shift All Elements Left by One\n",
    "def left_one(lst):\n",
    "    shift=lst[1:]+[lst[0]]\n",
    "    return shift\n",
    "left_one(lst=[1,2,3,4,5])"
   ]
  },
  {
   "cell_type": "code",
   "execution_count": null,
   "metadata": {},
   "outputs": [
    {
     "name": "stdout",
     "output_type": "stream",
     "text": [
      "2, 3, 5, "
     ]
    }
   ],
   "source": [
    "#37.Robber House\n",
    "def robber(lst):\n",
    "    for i in range(0,len(lst),2):\n",
    "        sum=0\n",
    "        sum=sum+lst[i]\n",
    "        print(sum)\n",
    "        t=lst[i+1]\n",
    "\n",
    "robber([1,2,3,1])#pending "
   ]
  },
  {
   "cell_type": "code",
   "execution_count": 109,
   "id": "42bef8f8",
   "metadata": {},
   "outputs": [
    {
     "name": "stdout",
     "output_type": "stream",
     "text": [
      "3\n"
     ]
    }
   ],
   "source": [
    "lt=[1,2,3,1]\n",
    "sum=0\n",
    "even=0\n",
    "for i in range(0,len(lt),2):\n",
    "    if sum<even:\n",
    "        sum=lt[i]+sum \n",
    "        print(sum)\n",
    "else:\n",
    "    even=even+lt[i]\n",
    "    print(even)\n",
    "    "
   ]
  },
  {
   "cell_type": "code",
   "execution_count": null,
   "id": "ca6d1a61",
   "metadata": {},
   "outputs": [
    {
     "name": "stdout",
     "output_type": "stream",
     "text": [
      "Hello 5\n",
      "how 3\n",
      "are 3\n",
      "you? 4\n"
     ]
    }
   ],
   "source": [
    "#38.Count Words in a Sentence\n",
    "def count_words(txt):\n",
    "    for i in txt.split():\n",
    "        print(i,len(i))\n",
    "count_words(\"Hello how are you?\")"
   ]
  },
  {
   "cell_type": "code",
   "execution_count": 29,
   "id": "57f930a8",
   "metadata": {},
   "outputs": [
    {
     "name": "stdout",
     "output_type": "stream",
     "text": [
      "2\n",
      "2\n",
      "4\n"
     ]
    }
   ],
   "source": [
    "#39.Majority Element\n",
    "#condition: major element is the lst it should be more than half\n",
    "def majority(lst):\n",
    "    sort=sorted(lst)\n",
    "    length=len(lst)//2\n",
    "    return sort[length]\n",
    "print(majority([1,2,1,2,2]))\n",
    "print(majority([1,2,1,2,1,2,2,2]))\n",
    "print(majority([3,4,3,4,4]))\n"
   ]
  },
  {
   "cell_type": "code",
   "execution_count": 41,
   "id": "2ee0265e",
   "metadata": {},
   "outputs": [
    {
     "name": "stdout",
     "output_type": "stream",
     "text": [
      "twice element 1\n",
      "twice element 2\n",
      "twice element 3\n"
     ]
    },
    {
     "data": {
      "text/plain": [
       "()"
      ]
     },
     "execution_count": 41,
     "metadata": {},
     "output_type": "execute_result"
    }
   ],
   "source": [
    "#40.Find All Elements That Appear Exactly \n",
    "from collections import Counter \n",
    "def twice(lst):\n",
    "    count=Counter(lst)\n",
    "    for i,j in count.items():\n",
    "        if j==2:\n",
    "            print(\"twice element\",i)\n",
    "    return ()\n",
    "    \n",
    "twice(lst=[1,2,1,2,3,4,3])"
   ]
  },
  {
   "cell_type": "code",
   "execution_count": 9,
   "id": "775b3857",
   "metadata": {},
   "outputs": [
    {
     "name": "stdout",
     "output_type": "stream",
     "text": [
      "[3, 4]\n",
      "[]\n",
      "[3]\n"
     ]
    }
   ],
   "source": [
    "#41.Find Local Maxima in a List\n",
    "def find_local_maxima(lst):\n",
    "    maxima = []\n",
    "    for i in range(1, len(lst) - 1):\n",
    "        if lst[i] > lst[i - 1] and lst[i] > lst[i + 1]:\n",
    "            maxima.append(lst[i])\n",
    "    return maxima\n",
    "print(find_local_maxima([1, 3, 2, 4, 1, 0, 5]))  # Output: [3, 4]\n",
    "print(find_local_maxima([5, 4, 3, 2, 1]))        # Output: []\n",
    "print(find_local_maxima([1, 2, 3, 2, 1]))   "
   ]
  },
  {
   "cell_type": "code",
   "execution_count": 37,
   "id": "3dd4cc78",
   "metadata": {},
   "outputs": [
    {
     "name": "stdout",
     "output_type": "stream",
     "text": [
      "2\n"
     ]
    }
   ],
   "source": [
    "#42.Find Missing Number in a Sequence\n",
    "def missing(lst):\n",
    "    l=len(lst)//2\n",
    "    print(l)\n",
    "missing([1,2,3,4,5])"
   ]
  },
  {
   "cell_type": "code",
   "execution_count": 42,
   "id": "48d299d3",
   "metadata": {},
   "outputs": [
    {
     "data": {
      "text/plain": [
       "Counter({1: 1, 2: 1, 3: 1, 4: 1, 5: 1})"
      ]
     },
     "execution_count": 42,
     "metadata": {},
     "output_type": "execute_result"
    }
   ],
   "source": [
    "#43.Find All Indices of a Given Element\n",
    "from collections import Counter\n",
    "def indices(lst):\n",
    "    count=Counter(lst)\n",
    "    return count\n",
    "\n",
    "indices([1,2,3,4,5])\n",
    "    "
   ]
  },
  {
   "cell_type": "code",
   "execution_count": null,
   "id": "ab564622",
   "metadata": {},
   "outputs": [
    {
     "name": "stdout",
     "output_type": "stream",
     "text": [
      "[2, 3, 5, 7]\n",
      "[11, 13, 17, 19]\n"
     ]
    }
   ],
   "source": [
    "#44.Find All Prime Numbers in a List\n",
    "def is_prime(n):  #function \n",
    "    if n <= 1:    #less than 1\n",
    "        return False \n",
    "    if n == 2:    #2 is prime\n",
    "        return True\n",
    "    if n % 2 == 0:#all even numbers are not even\n",
    "        return False\n",
    "    for i in range(3, int(n ** 0.5) + 1, 2):#from 3 \n",
    "        if n % i == 0:\n",
    "            return False\n",
    "    return True\n",
    "def find_primes_in_list(lst):\n",
    "    return [num for num in lst if is_prime(num)]\n",
    "print(find_primes_in_list([2, 3, 4, 5, 6, 7, 8, 9, 10]))\n",
    "\n",
    "print(find_primes_in_list([11, 13, 15, 17, 19, 21]))\n",
    "        "
   ]
  },
  {
   "cell_type": "code",
   "execution_count": 55,
   "id": "b1eddb6e",
   "metadata": {},
   "outputs": [
    {
     "name": "stdout",
     "output_type": "stream",
     "text": [
      "True\n",
      "False\n"
     ]
    }
   ],
   "source": [
    "#45.check square of given number are equal to k list\n",
    "def square(lst,compare):\n",
    "    lis=[x**2 for x in lst]\n",
    "    if lis==compare:\n",
    "        return True\n",
    "    else:\n",
    "        return False\n",
    "print(square([1,2,3,4,5],[1, 4, 9, 16, 25]))\n",
    "print(square([1,2,4,3,5],[1, 4, 9, 16, 25]))"
   ]
  },
  {
   "cell_type": "code",
   "execution_count": 51,
   "id": "ee198689",
   "metadata": {},
   "outputs": [
    {
     "name": "stdout",
     "output_type": "stream",
     "text": [
      "6\n",
      "6\n",
      "9\n"
     ]
    }
   ],
   "source": [
    "#46.Sum of Digits Until One Digit\n",
    "def sum_digits(n):\n",
    "    if n < 10:\n",
    "        return n\n",
    "    return sum_digits(sum(int(d) for d in str(n)))\n",
    "print(sum_digits(987))\n",
    "print(sum_digits(12345))\n",
    "print(sum_digits(9))"
   ]
  },
  {
   "cell_type": "code",
   "execution_count": 62,
   "id": "9be7aed3",
   "metadata": {},
   "outputs": [
    {
     "name": "stdout",
     "output_type": "stream",
     "text": [
      "a\n"
     ]
    }
   ],
   "source": [
    "#47.Remove All Duplicates from String\n",
    "def string_dup(st):\n",
    "    s=set()\n",
    "    for i in st:\n",
    "        s.add(i)\n",
    "    else:\n",
    "        print(i)\n",
    "\n",
    "string_dup(st=\"banana\")\n"
   ]
  },
  {
   "cell_type": "code",
   "execution_count": 65,
   "id": "d178caba",
   "metadata": {},
   "outputs": [
    {
     "name": "stdout",
     "output_type": "stream",
     "text": [
      "{'n', 'a', 'b'}\n"
     ]
    }
   ],
   "source": [
    "s=\"banana\"\n",
    "t=set()\n",
    "for i in s:\n",
    "    t.add(i)\n",
    "else:\n",
    "    print(t)"
   ]
  },
  {
   "cell_type": "code",
   "execution_count": 41,
   "id": "641b6a27",
   "metadata": {},
   "outputs": [
    {
     "name": "stdout",
     "output_type": "stream",
     "text": [
      "True\n",
      "False\n"
     ]
    }
   ],
   "source": [
    "#48.Check if Any Subarray Sums to Zero\n",
    "#Return True if there exists a subarray (of at least one element) that sums to zero.\n",
    "def sum(lst):\n",
    "    sum=0\n",
    "    for i in lst:\n",
    "        sum=sum+i\n",
    "        if sum==0:\n",
    "            return True\n",
    "    else:\n",
    "        return False\n",
    "print(sum([1,2,-3,4]))\n",
    "print(sum([1,2,3]))"
   ]
  },
  {
   "cell_type": "code",
   "execution_count": null,
   "id": "b8eb67b7",
   "metadata": {},
   "outputs": [
    {
     "name": "stdout",
     "output_type": "stream",
     "text": [
      "120\n"
     ]
    }
   ],
   "source": [
    "#49.Factorial of given number\n",
    "n=int(input(\"Enter the no\"))\n",
    "fact=1\n",
    "if n<0:\n",
    "    print(\"No Factorial\")\n",
    "elif n==0:\n",
    "    print(\"Factorial is 1\")\n",
    "else:\n",
    "    for i in range(1,n+1):\n",
    "        fact=fact*i\n",
    "    print(fact)\n",
    "\n"
   ]
  },
  {
   "cell_type": "code",
   "execution_count": null,
   "id": "3dfbc683",
   "metadata": {},
   "outputs": [
    {
     "data": {
      "text/plain": [
       "[20, 30]"
      ]
     },
     "execution_count": 14,
     "metadata": {},
     "output_type": "execute_result"
    }
   ],
   "source": [
    "#50.Given three sorted lists, return a list of elements that are common to all three.\n",
    "def comm(lst1,lst2,lst3):\n",
    "    common=set(lst1)&set(lst2)&set(lst3)\n",
    "    return list(common)\n",
    "comm(lst1=[10,20,30],lst2=[20,30,40],lst3=[20,30,40,50])"
   ]
  },
  {
   "cell_type": "code",
   "execution_count": null,
   "id": "f32303f2",
   "metadata": {},
   "outputs": [
    {
     "name": "stdout",
     "output_type": "stream",
     "text": [
      "True\n",
      "False\n",
      "True\n"
     ]
    }
   ],
   "source": [
    "#51.Total sum of the list must be divisible by 3\n",
    "def total_sum(lst):\n",
    "    total = 0\n",
    "    for i in lst:\n",
    "        total += i\n",
    "    return total % 3 == 0\n",
    "\n",
    "# Test cases\n",
    "print(total_sum([1, 2, 3, 4, 5]))               \n",
    "print(total_sum([2, 4, 7]))                     \n",
    "print(total_sum([0, 2, 1, -6, 6, -7, 9, 1, 2, 0, 1])) \n"
   ]
  },
  {
   "cell_type": "code",
   "execution_count": null,
   "id": "043496a9",
   "metadata": {},
   "outputs": [],
   "source": [
    "#52.Find Longest Subarray with All Unique Elements"
   ]
  },
  {
   "cell_type": "code",
   "execution_count": 2,
   "id": "b346ec12",
   "metadata": {},
   "outputs": [
    {
     "name": "stdout",
     "output_type": "stream",
     "text": [
      "the number is power of two\n"
     ]
    }
   ],
   "source": [
    "#54.Check if a Number is Power of Two\n",
    "def power_two(n):\n",
    "    for i in range(1,n):\n",
    "        if n== 2**i:\n",
    "            print(\"the number is power of two\")\n",
    "            break\n",
    "    else:\n",
    "        print(\"this number is not power of 2\")\n",
    "power_two(64)"
   ]
  },
  {
   "cell_type": "code",
   "execution_count": 5,
   "metadata": {},
   "outputs": [
    {
     "name": "stdout",
     "output_type": "stream",
     "text": [
      "3 Fizz\n",
      "5 Buzz\n",
      "6 Fizz\n",
      "9 Fizz\n",
      "10 Buzz\n",
      "12 Fizz\n",
      "15 Fizz\n",
      "18 Fizz\n",
      "20 Buzz\n",
      "21 Fizz\n",
      "24 Fizz\n",
      "25 Buzz\n",
      "27 Fizz\n",
      "30 Fizz\n",
      "33 Fizz\n",
      "35 Buzz\n",
      "36 Fizz\n",
      "39 Fizz\n",
      "40 Buzz\n",
      "42 Fizz\n",
      "45 Fizz\n",
      "48 Fizz\n",
      "50 Buzz\n",
      "51 Fizz\n",
      "54 Fizz\n",
      "55 Buzz\n",
      "57 Fizz\n",
      "60 Fizz\n",
      "63 Fizz\n",
      "65 Buzz\n",
      "66 Fizz\n",
      "69 Fizz\n",
      "70 Buzz\n",
      "72 Fizz\n",
      "75 Fizz\n",
      "78 Fizz\n",
      "80 Buzz\n",
      "81 Fizz\n",
      "84 Fizz\n",
      "85 Buzz\n",
      "87 Fizz\n",
      "90 Fizz\n",
      "93 Fizz\n",
      "95 Buzz\n",
      "96 Fizz\n",
      "99 Fizz\n"
     ]
    }
   ],
   "source": [
    "#55.Print numbers 1 to 100. If divisible by 3 print \"Fizz\", by 5 print \"Buzz\", by both print \"FizzBuzz\".\n",
    "def fizzbuzz():\n",
    "    for i in range(1,100):\n",
    "        if i%3==0:\n",
    "            print(i,\"Fizz\")\n",
    "        elif i%5==0:\n",
    "            print(i,\"Buzz\")\n",
    "        elif i%3==0 & i%5==0:\n",
    "            print(i,\"FizzBuzz\")\n",
    "fizzbuzz()"
   ]
  },
  {
   "cell_type": "code",
   "execution_count": 9,
   "id": "24da06ba",
   "metadata": {},
   "outputs": [
    {
     "name": "stdout",
     "output_type": "stream",
     "text": [
      "0\n",
      "1\n",
      "1\n",
      "2\n",
      "3\n",
      "5\n",
      "8\n",
      "13\n",
      "21\n",
      "34\n"
     ]
    }
   ],
   "source": [
    "#56.Fibonacci series\n",
    "a = 0\n",
    "b = 1\n",
    "print(a)\n",
    "print(b)\n",
    "\n",
    "for i in range(8):  # Already printed first two, so loop 8 more times\n",
    "    c = a + b\n",
    "    print(c)\n",
    "    a = b\n",
    "    b = c\n"
   ]
  },
  {
   "cell_type": "code",
   "execution_count": 14,
   "id": "b46a8edd",
   "metadata": {},
   "outputs": [
    {
     "name": "stdout",
     "output_type": "stream",
     "text": [
      "a 3b 2c 2"
     ]
    }
   ],
   "source": [
    "#57.Compress a String Using Counts\n",
    "from collections import Counter\n",
    "def count(txt):\n",
    "    coun=Counter(txt)\n",
    "    #return coun\n",
    "    for i,j in coun.items():\n",
    "        print(i,j,end='')\n",
    "\n",
    "\n",
    "count(txt=\"aaabbcc\" )"
   ]
  },
  {
   "cell_type": "code",
   "execution_count": null,
   "id": "0e86be66",
   "metadata": {},
   "outputs": [
    {
     "name": "stdout",
     "output_type": "stream",
     "text": [
      "True\n"
     ]
    }
   ],
   "source": [
    "#58.anagram\n",
    "def check_anagram(s1, s2):\n",
    "# Convert both strings to lowercase\n",
    "    s1 = s1.lower()\n",
    "    s2 = s2.lower()\n",
    "\n",
    "    # Sort the strings and compare\n",
    "    if sorted(s1) == sorted(s2):\n",
    "        return True\n",
    "    else:\n",
    "        return False\n",
    " \n",
    "print(check_anagram(s1=\"listen\", s2=\"silent\"))"
   ]
  },
  {
   "cell_type": "code",
   "execution_count": 25,
   "id": "89dca0ab",
   "metadata": {},
   "outputs": [
    {
     "name": "stdout",
     "output_type": "stream",
     "text": [
      "[(1, 5)]\n",
      "[(2, 4)]\n"
     ]
    }
   ],
   "source": [
    "#59.Find All Pairs Whose Sum is a Target Value\n",
    "def sum_target(lst,target):\n",
    "    for i in range(len(lst)):\n",
    "        for j in range(i + 1, len(lst)):\n",
    "            if lst[i]+lst[j]==target:\n",
    "                print([(lst[i],lst[j])])\n",
    "        \n",
    "sum_target(lst=[1,2,3,4,5],target=6)\n"
   ]
  },
  {
   "cell_type": "code",
   "execution_count": 26,
   "id": "107e4d6b",
   "metadata": {},
   "outputs": [
    {
     "data": {
      "text/plain": [
       "{'a': 1, 'b': 2, 'c': 3}"
      ]
     },
     "execution_count": 26,
     "metadata": {},
     "output_type": "execute_result"
    }
   ],
   "source": [
    "#60.Create a Dictionary from Two Lists\n",
    "def dictionary(keys,values):\n",
    "    result=dict(zip(keys,values))\n",
    "    return result\n",
    "dictionary(['a','b','c'],[1,2,3])"
   ]
  },
  {
   "cell_type": "code",
   "execution_count": 43,
   "id": "0e00a5a4",
   "metadata": {},
   "outputs": [
    {
     "name": "stdout",
     "output_type": "stream",
     "text": [
      "{'b': 1, 'a': 3, 'n': 2}\n"
     ]
    }
   ],
   "source": [
    "#61.Count Occurrences of Each Character in a String\n",
    "def count_occur(s):\n",
    "    count={}\n",
    "    for i in s:\n",
    "        if i in count:\n",
    "            count[i] += 1\n",
    "        else:\n",
    "            count[i] = 1\n",
    "    return count\n",
    "print(count_occur(\"banana\"))\n",
    "    "
   ]
  },
  {
   "cell_type": "code",
   "execution_count": null,
   "id": "61857bdc",
   "metadata": {},
   "outputs": [
    {
     "data": {
      "text/plain": [
       "{'a': 1, 'b': 2}"
      ]
     },
     "execution_count": 44,
     "metadata": {},
     "output_type": "execute_result"
    }
   ],
   "source": [
    "#62.Merge Two Dictionaries #method 1\n",
    "def merge(dict1,dict2):\n",
    "    merge=dict1 | dict2\n",
    "    return merge\n",
    "merge({'a':1},{'b':2})"
   ]
  },
  {
   "cell_type": "code",
   "execution_count": null,
   "id": "bf9caa3d",
   "metadata": {},
   "outputs": [
    {
     "data": {
      "text/plain": [
       "{'a': 1, 'b': 2}"
      ]
     },
     "execution_count": 45,
     "metadata": {},
     "output_type": "execute_result"
    }
   ],
   "source": [
    "#63.Merge Two Dictionaries #method 2\n",
    "def merge(dict1,dict2):\n",
    "    merge={**dict1,**dict2}\n",
    "    return merge\n",
    "merge({'a':1},{'b':2})"
   ]
  },
  {
   "cell_type": "code",
   "execution_count": 50,
   "id": "ff668884",
   "metadata": {},
   "outputs": [
    {
     "data": {
      "text/plain": [
       "{'a': 1, 'b': 2}"
      ]
     },
     "execution_count": 50,
     "metadata": {},
     "output_type": "execute_result"
    }
   ],
   "source": [
    "#64.Merge Two Dictionaries #method 3\n",
    "def merge(dict1,dict2):\n",
    "    dict1.update(dict2)\n",
    "    return dict1\n",
    "merge({'a':1},{'b':2})\n"
   ]
  },
  {
   "cell_type": "code",
   "execution_count": 55,
   "id": "17fa855e",
   "metadata": {},
   "outputs": [
    {
     "data": {
      "text/plain": [
       "True"
      ]
     },
     "execution_count": 55,
     "metadata": {},
     "output_type": "execute_result"
    }
   ],
   "source": [
    "#65.Check if Key Exists in a Dictionary\n",
    "#Input: \"name\" in {'name': 'John', 'age': 30} → Output: True\n",
    "def key_exists(person):\n",
    "    return ('name' in person)\n",
    "    \n",
    "key_exists({'name': 'John', 'age': 30})"
   ]
  },
  {
   "cell_type": "code",
   "execution_count": 57,
   "id": "c7881438",
   "metadata": {},
   "outputs": [
    {
     "data": {
      "text/plain": [
       "35"
      ]
     },
     "execution_count": 57,
     "metadata": {},
     "output_type": "execute_result"
    }
   ],
   "source": [
    "#66.Sum All Values in a Dictionary\n",
    "def sum_values(dict1):\n",
    "    count=sum(dict1.values())\n",
    "    return count\n",
    "sum_values({'a': 10, 'b': 20, 'c': 5})"
   ]
  },
  {
   "cell_type": "code",
   "execution_count": 58,
   "id": "c12ba775",
   "metadata": {},
   "outputs": [
    {
     "data": {
      "text/plain": [
       "'y'"
      ]
     },
     "execution_count": 58,
     "metadata": {},
     "output_type": "execute_result"
    }
   ],
   "source": [
    "#67.Find Key with Maximum Value\n",
    "def max_value(dict1):\n",
    "    return max(dict1,key=dict1.get)\n",
    "\n",
    "max_value({'x': 3, 'y': 10, 'z': 8})"
   ]
  },
  {
   "cell_type": "code",
   "execution_count": 61,
   "id": "3f75e96c",
   "metadata": {},
   "outputs": [
    {
     "name": "stdout",
     "output_type": "stream",
     "text": [
      "{1: 'a', 2: 'b'}\n"
     ]
    }
   ],
   "source": [
    "#68.Invert a Dictionary (Swap Keys and Values)\n",
    "def swap_keys(dict1):\n",
    "    invert={v:k for k,v in dict1.items()}\n",
    "    return invert\n",
    "print(swap_keys({'a': 1, 'b': 2}))"
   ]
  },
  {
   "cell_type": "code",
   "execution_count": 62,
   "id": "3ba0bd67",
   "metadata": {},
   "outputs": [
    {
     "data": {
      "text/plain": [
       "{15: 'b'}"
      ]
     },
     "execution_count": 62,
     "metadata": {},
     "output_type": "execute_result"
    }
   ],
   "source": [
    "#69.Filter Dictionary by Value (Keep Only > 10)\n",
    "def filter_value(dict1):\n",
    "    filter={v:k for k,v in dict1.items() if v>10}\n",
    "    return filter\n",
    "filter_value({'a': 5, 'b': 15})"
   ]
  },
  {
   "cell_type": "code",
   "execution_count": 64,
   "id": "e197d199",
   "metadata": {},
   "outputs": [
    {
     "data": {
      "text/plain": [
       "{'name': 'John'}"
      ]
     },
     "execution_count": 64,
     "metadata": {},
     "output_type": "execute_result"
    }
   ],
   "source": [
    "#70.Remove a Key from a Dictionary\n",
    "def remove(dict1):\n",
    "    dict1.pop(\"age\")\n",
    "    return dict1\n",
    "remove({'name': 'John', 'age': 30})"
   ]
  },
  {
   "cell_type": "code",
   "execution_count": 65,
   "id": "f1ea6159",
   "metadata": {},
   "outputs": [
    {
     "data": {
      "text/plain": [
       "{'name': 'John', 'age': 30, 'city': 'paris'}"
      ]
     },
     "execution_count": 65,
     "metadata": {},
     "output_type": "execute_result"
    }
   ],
   "source": [
    "#71.Add a New Key-Value Pair to a Dictionary\n",
    "def add_keypair(dict1):\n",
    "    dict1['city']='paris'\n",
    "    return dict1\n",
    "add_keypair({'name': 'John', 'age': 30})"
   ]
  },
  {
   "cell_type": "code",
   "execution_count": 69,
   "id": "e73b347d",
   "metadata": {},
   "outputs": [
    {
     "name": "stdout",
     "output_type": "stream",
     "text": [
      "not found\n"
     ]
    }
   ],
   "source": [
    "#72.Get a Value with a Default Fallback\n",
    "def default_fallback(dict1):\n",
    "    result=dict1.get('city','not found')\n",
    "    print(result)\n",
    "    \n",
    "default_fallback({'name': 'Alice', 'age': 25})"
   ]
  },
  {
   "cell_type": "code",
   "execution_count": 75,
   "id": "caedbe04",
   "metadata": {},
   "outputs": [
    {
     "name": "stdout",
     "output_type": "stream",
     "text": [
      "name\n",
      "age\n"
     ]
    }
   ],
   "source": [
    "#73.Loop Through Dictionary Keys\n",
    "#Given a dictionary, print each key on a new line\n",
    "def dictionary(dict1):\n",
    "    for i,j in dict1.items():\n",
    "        print(i)\n",
    "dictionary({'name': 'Alice', 'age': 25})"
   ]
  },
  {
   "cell_type": "code",
   "execution_count": 81,
   "id": "edf4a437",
   "metadata": {},
   "outputs": [
    {
     "name": "stdout",
     "output_type": "stream",
     "text": [
      "name\n",
      "age\n"
     ]
    }
   ],
   "source": [
    "#74.Loop Through Dictionary Keys\n",
    "#Given a dictionary, print each key on a new line\n",
    "def dictionary(dict1):\n",
    "    for keys in dict1.keys():\n",
    "        print(keys)\n",
    "dictionary({'name': 'Alice', 'age': 25})"
   ]
  },
  {
   "cell_type": "code",
   "execution_count": 84,
   "id": "f7da2602",
   "metadata": {},
   "outputs": [
    {
     "name": "stdout",
     "output_type": "stream",
     "text": [
      "Alice\n",
      "25\n"
     ]
    }
   ],
   "source": [
    "#75.Loop Through Dictionary Values\n",
    "def dictionary(dict1):\n",
    "    for values in dict1.values():\n",
    "        print(values)\n",
    "dictionary({'name': 'Alice', 'age': 25})"
   ]
  },
  {
   "cell_type": "code",
   "execution_count": 87,
   "id": "2cf8fcf6",
   "metadata": {},
   "outputs": [
    {
     "name": "stdout",
     "output_type": "stream",
     "text": [
      "Alice\n",
      "25\n"
     ]
    }
   ],
   "source": [
    "#76.Loop Through Dictionary Values\n",
    "def dictionary(dict1):\n",
    "    for i,j in dict1.items():\n",
    "        print(j)\n",
    "dictionary({'name': 'Alice', 'age': 25})"
   ]
  },
  {
   "cell_type": "code",
   "execution_count": 85,
   "id": "c65c9ea5",
   "metadata": {},
   "outputs": [
    {
     "name": "stdout",
     "output_type": "stream",
     "text": [
      "name Alice\n",
      "age 25\n"
     ]
    }
   ],
   "source": [
    "#77.Loop Through Keys and Values Together\n",
    "def dictionary(dict1):\n",
    "    for i,j in dict1.items():\n",
    "        print(i,j)\n",
    "dictionary({'name': 'Alice', 'age': 25})"
   ]
  },
  {
   "cell_type": "code",
   "execution_count": null,
   "id": "de2e021b",
   "metadata": {},
   "outputs": [
    {
     "data": {
      "text/plain": [
       "{'name': 'Alice', 'age': 30}"
      ]
     },
     "execution_count": 88,
     "metadata": {},
     "output_type": "execute_result"
    }
   ],
   "source": [
    "#78.Update the Value of an Existing Key\n",
    "#Change the value of 'age' from 25 to 30 in {'name': 'Alice', 'age': 25}\n",
    "def diction(dict1):\n",
    "    dict1['age']=30\n",
    "    return dict1\n",
    "diction({'name': 'Alice', 'age': 25})\n"
   ]
  },
  {
   "cell_type": "code",
   "execution_count": 89,
   "id": "cb329d04",
   "metadata": {},
   "outputs": [
    {
     "data": {
      "text/plain": [
       "{}"
      ]
     },
     "execution_count": 89,
     "metadata": {},
     "output_type": "execute_result"
    }
   ],
   "source": [
    "#79.Delete All Items in a Dictionary\n",
    "def delete(dict1):\n",
    "    dict1.clear()\n",
    "    return dict1\n",
    "delete({'name': 'Alice', 'age': 25})"
   ]
  },
  {
   "cell_type": "code",
   "execution_count": 97,
   "id": "cc0753c0",
   "metadata": {},
   "outputs": [
    {
     "data": {
      "text/plain": [
       "{'a': 1, 'b': 2, 'c': 3}"
      ]
     },
     "execution_count": 97,
     "metadata": {},
     "output_type": "execute_result"
    }
   ],
   "source": [
    "#80.Sort a Dictionary by Keys\n",
    "def sorting(dict1):\n",
    "    sorted_dict = dict(sorted(dict1.items()))\n",
    "    return sorted_dict\n",
    "sorting({'c': 3, 'a': 1, 'b': 2})"
   ]
  },
  {
   "cell_type": "code",
   "execution_count": null,
   "id": "a6133791",
   "metadata": {},
   "outputs": [
    {
     "name": "stdout",
     "output_type": "stream",
     "text": [
      "{'y': 1, 'z': 2, 'x': 3}\n"
     ]
    }
   ],
   "source": [
    "#81.Sort a Dictionary by Values\n",
    "def sort_values(dict1):\n",
    "    sorted_by_value = dict(sorted(dict1.items(), key=lambda item: item[1]))\n",
    "    print(sorted_by_value)\n",
    "sort_values({'x': 3, 'y': 1, 'z': 2})\n"
   ]
  },
  {
   "cell_type": "code",
   "execution_count": null,
   "id": "c834d654",
   "metadata": {},
   "outputs": [
    {
     "data": {
      "text/plain": [
       "{1: 1, 2: 4, 3: 9, 4: 16, 5: 25}"
      ]
     },
     "execution_count": 100,
     "metadata": {},
     "output_type": "execute_result"
    }
   ],
   "source": [
    "#82.Create a Dictionary Using Dictionary Comprehension\n",
    "def create_dict():\n",
    "    dict1={x:x**2 for x in range(1,6)}\n",
    "    return dict1\n",
    "create_dict()"
   ]
  },
  {
   "cell_type": "code",
   "execution_count": 102,
   "id": "40402197",
   "metadata": {},
   "outputs": [
    {
     "data": {
      "text/plain": [
       "3"
      ]
     },
     "execution_count": 102,
     "metadata": {},
     "output_type": "execute_result"
    }
   ],
   "source": [
    "#83.Find the Number of Keys in a Dictionary\n",
    "def count_keys(dict1):\n",
    "    return len(dict1.keys())\n",
    "    \n",
    "count_keys({'x': 3, 'y': 1, 'z': 2})"
   ]
  },
  {
   "cell_type": "code",
   "execution_count": null,
   "id": "72cbf6a7",
   "metadata": {},
   "outputs": [
    {
     "data": {
      "text/plain": [
       "{'name': 'Alice', 'age': 25}"
      ]
     },
     "execution_count": 106,
     "metadata": {},
     "output_type": "execute_result"
    }
   ],
   "source": [
    "#84.Remove Key Only If Exists\n",
    "def remove_key(dict1):\n",
    "    dict1.pop('gender',None)\n",
    "    \n",
    "remove_key({'name': 'Alice', 'age': 25})"
   ]
  },
  {
   "cell_type": "code",
   "execution_count": 107,
   "id": "2f001d72",
   "metadata": {},
   "outputs": [
    {
     "name": "stdout",
     "output_type": "stream",
     "text": [
      "True\n",
      "False\n"
     ]
    }
   ],
   "source": [
    "#85.check if a dictionary is empty\n",
    "def is_dict_empty(d):\n",
    "    return not bool(d)  # or just: return not d\n",
    "\n",
    "# Test cases\n",
    "print(is_dict_empty({}))                  # Output: True\n",
    "print(is_dict_empty({'a': 1, 'b': 2}))    # Output: False\n"
   ]
  },
  {
   "cell_type": "code",
   "execution_count": 112,
   "id": "5f5cc721",
   "metadata": {},
   "outputs": [
    {
     "name": "stdout",
     "output_type": "stream",
     "text": [
      "{'emp1': {'name': 'alice', 'age': 20}, 'emp2': {'name': 'bob', 'age': 20}, 'emp3': {'name': 'charles', 'age': 20}}\n"
     ]
    }
   ],
   "source": [
    "#86.create nested dictionary\n",
    "employees={\n",
    "    'emp1':{'name':'alice','age':20},\n",
    "    'emp2':{'name':'bob','age':20},\n",
    "    'emp3':{'name':'charles','age':20}\n",
    "}\n",
    "print(employees)"
   ]
  },
  {
   "cell_type": "code",
   "execution_count": null,
   "id": "dfe57e86",
   "metadata": {},
   "outputs": [
    {
     "name": "stdout",
     "output_type": "stream",
     "text": [
      "{'emp1': {'name': 'alice', 'age': 20, 'department': 'HR'}, 'emp2': {'name': 'bob', 'age': 20}, 'emp3': {'name': 'charles', 'age': 20}}\n"
     ]
    }
   ],
   "source": [
    "#87.Add a Nested Key-Value Pair\n",
    "#Add \"department\": \"HR\" to emp1 in the above dictionary.\n",
    "employees['emp1']['department']='HR'\n",
    "print(employees)"
   ]
  },
  {
   "cell_type": "code",
   "execution_count": 117,
   "id": "cc2a4cb8",
   "metadata": {},
   "outputs": [
    {
     "name": "stdout",
     "output_type": "stream",
     "text": [
      "{'a': 4, 'b': 6}\n"
     ]
    }
   ],
   "source": [
    "#88.Double All Values in a Dictionary\n",
    "def double_value(dict2):\n",
    "    return {k: v * 2 for k, v in dict2.items()}\n",
    "print(double_value({'a': 2, 'b': 3}))\n"
   ]
  },
  {
   "cell_type": "code",
   "execution_count": null,
   "id": "6f932284",
   "metadata": {},
   "outputs": [
    {
     "data": {
      "text/plain": [
       "['b', 'c']"
      ]
     },
     "execution_count": 120,
     "metadata": {},
     "output_type": "execute_result"
    }
   ],
   "source": [
    "#89.Find All Keys with Even Values\n",
    "def even_values(dict1):\n",
    "    return [k for k, v in dict1.items() if v % 2 == 0]\n",
    "even_values({'a': 1, 'b': 4, 'c': 6})"
   ]
  },
  {
   "cell_type": "code",
   "execution_count": 122,
   "id": "1eeb817e",
   "metadata": {},
   "outputs": [
    {
     "data": {
      "text/plain": [
       "{'a': 1, 'b': 4, 'c': 6}"
      ]
     },
     "execution_count": 122,
     "metadata": {},
     "output_type": "execute_result"
    }
   ],
   "source": [
    "#90.Copy a Dictionary\n",
    "def copy(dict1):\n",
    "    dict2=dict1.copy()\n",
    "    return dict2\n",
    "copy({'a': 1, 'b': 4, 'c': 6})"
   ]
  },
  {
   "cell_type": "code",
   "execution_count": 123,
   "id": "394fa4b3",
   "metadata": {},
   "outputs": [
    {
     "data": {
      "text/plain": [
       "Counter({'l': 3, 'o': 2, 'h': 1, 'e': 1, ' ': 1, 'w': 1, 'r': 1, 'd': 1})"
      ]
     },
     "execution_count": 123,
     "metadata": {},
     "output_type": "execute_result"
    }
   ],
   "source": [
    "#91.Convert a String to a Frequency \n",
    "from collections import Counter\n",
    "def freq(txt):\n",
    "    count=Counter(txt)\n",
    "    return count\n",
    "freq(\"hello world\")"
   ]
  },
  {
   "cell_type": "code",
   "execution_count": null,
   "id": "9e66fc7c",
   "metadata": {},
   "outputs": [],
   "source": []
  },
  {
   "cell_type": "code",
   "execution_count": null,
   "id": "1ca1d406",
   "metadata": {},
   "outputs": [],
   "source": []
  },
  {
   "cell_type": "code",
   "execution_count": null,
   "id": "21c14963",
   "metadata": {},
   "outputs": [],
   "source": []
  },
  {
   "cell_type": "code",
   "execution_count": null,
   "id": "110787d8",
   "metadata": {},
   "outputs": [],
   "source": []
  },
  {
   "cell_type": "code",
   "execution_count": null,
   "id": "c21f0240",
   "metadata": {},
   "outputs": [],
   "source": []
  },
  {
   "cell_type": "code",
   "execution_count": null,
   "id": "fe56aad3",
   "metadata": {},
   "outputs": [],
   "source": []
  },
  {
   "cell_type": "code",
   "execution_count": null,
   "id": "4131e594",
   "metadata": {},
   "outputs": [],
   "source": []
  },
  {
   "cell_type": "code",
   "execution_count": null,
   "id": "74ceb5bc",
   "metadata": {},
   "outputs": [],
   "source": []
  },
  {
   "cell_type": "code",
   "execution_count": null,
   "id": "b7fae30f",
   "metadata": {},
   "outputs": [],
   "source": []
  },
  {
   "cell_type": "code",
   "execution_count": null,
   "id": "5cb2c3f0",
   "metadata": {},
   "outputs": [],
   "source": []
  }
 ],
 "metadata": {
  "kernelspec": {
   "display_name": "Python 3",
   "language": "python",
   "name": "python3"
  },
  "language_info": {
   "codemirror_mode": {
    "name": "ipython",
    "version": 3
   },
   "file_extension": ".py",
   "mimetype": "text/x-python",
   "name": "python",
   "nbconvert_exporter": "python",
   "pygments_lexer": "ipython3",
   "version": "3.12.3"
  }
 },
 "nbformat": 4,
 "nbformat_minor": 5
}
