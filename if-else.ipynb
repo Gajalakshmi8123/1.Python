{
 "cells": [
  {
   "cell_type": "code",
   "execution_count": 1,
   "metadata": {},
   "outputs": [
    {
     "name": "stdout",
     "output_type": "stream",
     "text": [
      "23 odd\n",
      "13 odd\n",
      "45 odd\n",
      "67 odd\n",
      "8 even\n",
      "9 odd\n",
      "7 odd\n",
      "0 even\n"
     ]
    }
   ],
   "source": [
    "num=[23,13,45,67,8,9,7,0]\n",
    "for i in num:\n",
    "    if i%2==0:\n",
    "        print(i,\"even\")\n",
    "    else:\n",
    "        print(i,\"odd\")"
   ]
  },
  {
   "cell_type": "markdown",
   "metadata": {},
   "source": [
    "positive,negative or Zero"
   ]
  },
  {
   "cell_type": "code",
   "execution_count": 2,
   "metadata": {},
   "outputs": [
    {
     "ename": "ValueError",
     "evalue": "invalid literal for int() with base 10: ''",
     "output_type": "error",
     "traceback": [
      "\u001b[1;31m---------------------------------------------------------------------------\u001b[0m",
      "\u001b[1;31mValueError\u001b[0m                                Traceback (most recent call last)",
      "Cell \u001b[1;32mIn[2], line 1\u001b[0m\n\u001b[1;32m----> 1\u001b[0m num\u001b[38;5;241m=\u001b[39m\u001b[38;5;28;43mint\u001b[39;49m\u001b[43m(\u001b[49m\u001b[38;5;28;43minput\u001b[39;49m\u001b[43m(\u001b[49m\u001b[38;5;124;43m\"\u001b[39;49m\u001b[38;5;124;43menter the no \u001b[39;49m\u001b[38;5;124;43m\"\u001b[39;49m\u001b[43m)\u001b[49m\u001b[43m)\u001b[49m\n\u001b[0;32m      2\u001b[0m \u001b[38;5;28;01mif\u001b[39;00m num\u001b[38;5;241m<\u001b[39m\u001b[38;5;241m0\u001b[39m:\n\u001b[0;32m      3\u001b[0m     \u001b[38;5;28mprint\u001b[39m(\u001b[38;5;124m\"\u001b[39m\u001b[38;5;124mnegative\u001b[39m\u001b[38;5;124m\"\u001b[39m)\n",
      "\u001b[1;31mValueError\u001b[0m: invalid literal for int() with base 10: ''"
     ]
    }
   ],
   "source": [
    "num=int(input(\"enter the no \"))\n",
    "if num<0:\n",
    "    print(\"negative\")\n",
    "elif num==0:\n",
    "    print(\"Zero\")\n",
    "else:\n",
    "    print(\"Positive\")\n"
   ]
  },
  {
   "cell_type": "markdown",
   "metadata": {},
   "source": [
    "Score >= 90: Grade A\n",
    "Score >= 75 and < 90: Grade B\n",
    "Score >= 50 and < 75: Grade C\n",
    "Score < 50: Grade F"
   ]
  },
  {
   "cell_type": "code",
   "execution_count": null,
   "metadata": {},
   "outputs": [
    {
     "name": "stdout",
     "output_type": "stream",
     "text": [
      "Grade B\n"
     ]
    }
   ],
   "source": [
    "score=int(input(\"Enter the no \"))\n",
    "if score>=90:\n",
    "    print(score,\"Grade A\")\n",
    "elif score>=75 and score< 90:\n",
    "    print(score,\"Grade B\")\n",
    "elif score>=50 and score<75:\n",
    "    print(score,\"Grade C\")\n",
    "elif score<50:\n",
    "    print(score,\"Grade F\")\n"
   ]
  },
  {
   "cell_type": "markdown",
   "metadata": {},
   "source": [
    "Max of three number"
   ]
  },
  {
   "cell_type": "code",
   "execution_count": 14,
   "metadata": {},
   "outputs": [
    {
     "name": "stdout",
     "output_type": "stream",
     "text": [
      "num2 is greater\n"
     ]
    }
   ],
   "source": [
    "num1=int(input(\"Enter the no: \"))\n",
    "num2=int(input(\"Enter the no: \"))\n",
    "num3=int(input(\"Enter the no: \"))\n",
    "if num1>num2 and num2>num3:\n",
    "    print(\"num1 is greater\")\n",
    "elif num2>num1 and num2>num3:\n",
    "    print(\"num2 is greater\")\n",
    "elif num3>num2 and num3>num1:\n",
    "    print(\"num3 is greater\")"
   ]
  },
  {
   "cell_type": "markdown",
   "metadata": {},
   "source": [
    "Triangle validity check sum of two side is greater than third side"
   ]
  },
  {
   "cell_type": "code",
   "execution_count": 19,
   "metadata": {},
   "outputs": [
    {
     "name": "stdout",
     "output_type": "stream",
     "text": [
      "valid triangle\n"
     ]
    }
   ],
   "source": [
    "a=int(input(\"Enter the no: \"))\n",
    "b=int(input(\"Enter the no: \"))\n",
    "c=int(input(\"Enter the no: \"))\n",
    "if a+b>c or b+c>a or c+a>b:\n",
    "    print(\"valid triangle\")\n",
    "else:\n",
    "    print(\"Invlaid triangle\")"
   ]
  },
  {
   "cell_type": "markdown",
   "metadata": {},
   "source": [
    "Day of the week"
   ]
  },
  {
   "cell_type": "code",
   "execution_count": 24,
   "metadata": {},
   "outputs": [
    {
     "name": "stdout",
     "output_type": "stream",
     "text": [
      "wednesday\n"
     ]
    }
   ],
   "source": [
    "Day=int(input(\"Enter the no between 1-7: \"))\n",
    "if Day==1:\n",
    "    print(\"monday\")\n",
    "elif Day==2:\n",
    "    print(\"tuesday\")\n",
    "elif Day==3:\n",
    "    print(\"wednesday\")\n",
    "else:\n",
    "    print(\"invalid input\")"
   ]
  },
  {
   "cell_type": "code",
   "execution_count": 29,
   "metadata": {},
   "outputs": [
    {
     "name": "stdout",
     "output_type": "stream",
     "text": [
      "100\n"
     ]
    }
   ],
   "source": [
    "rate_1 = 1        # First 100 units\n",
    "rate_2 = 1.5      # Next 100 units (101-200)\n",
    "rate_3 = 2        # Above 200 units\n",
    "units=int(input(\"Enter the units\"))\n",
    "if units <= 100:\n",
    "    bill = units * rate_1\n",
    "    print(bill)\n",
    "elif units <= 200:\n",
    "    bill = (100 * rate_1) + ((units - 100) * rate_2)\n",
    "    print(bill)\n",
    "else:\n",
    "    bill = (100 * rate_1) + (100 * rate_2) + ((units - 200) * rate_3)\n",
    "    print(bill)"
   ]
  },
  {
   "cell_type": "markdown",
   "metadata": {},
   "source": [
    "nested if"
   ]
  },
  {
   "cell_type": "code",
   "execution_count": 38,
   "metadata": {},
   "outputs": [
    {
     "name": "stdout",
     "output_type": "stream",
     "text": [
      "warm\n"
     ]
    }
   ],
   "source": [
    "celsius=int(input(\"Enter the celsius: \"))\n",
    "if celsius<=20:\n",
    "    if celsius<=10:\n",
    "        print(\"very cold\")\n",
    "    else:\n",
    "        print(\"cold\")\n",
    "else:\n",
    "    print(\"warm\")"
   ]
  },
  {
   "cell_type": "markdown",
   "metadata": {},
   "source": [
    "If yes → 30% discount.\n",
    "If no → 20% discount."
   ]
  },
  {
   "cell_type": "code",
   "execution_count": 43,
   "metadata": {},
   "outputs": [
    {
     "name": "stdout",
     "output_type": "stream",
     "text": [
      "No Discount\n"
     ]
    }
   ],
   "source": [
    "Bill_amount=int(input(\"Enter the amount: \"))\n",
    "Day=input(\"Enter the day weekday or Holiday: \")\n",
    "if Bill_amount>500:\n",
    "    if Day==\"Holiday\":\n",
    "        Discount=(Bill_amount*30)/100\n",
    "        print(Bill_amount-Discount)\n",
    "    else:\n",
    "        Discount=(Bill_amount*20)/100\n",
    "else:\n",
    "    print(\"No Discount\")"
   ]
  },
  {
   "cell_type": "markdown",
   "metadata": {},
   "source": [
    "Manager:\n",
    "If experience > 10 years → Bonus = 20%.\n",
    "If experience <= 10 years → Bonus = 10%.\n",
    "Engineer:\n",
    "If experience > 5 years → Bonus = 15%.\n",
    "Otherwise → Bonus = 5%.\n",
    "Calculate Net Salary: Net Salary = Base Salary + Bonus."
   ]
  },
  {
   "cell_type": "code",
   "execution_count": 10,
   "metadata": {},
   "outputs": [
    {
     "name": "stdout",
     "output_type": "stream",
     "text": [
      "60000.0\n"
     ]
    }
   ],
   "source": [
    "employee=input(\"Manager or Engineer\")\n",
    "Basesalary=int(input(\"Enter the amount: \"))\n",
    "exp=int(input(\"Enter the Exp yrs: \"))\n",
    "if employee==\"Manager\":\n",
    "    if exp>10:\n",
    "        netsalary=Basesalary+((Basesalary*20)/100)\n",
    "        print(netsalary)\n",
    "    elif exp<=10:\n",
    "        netsalary=Basesalary+((Basesalary*10)/100)\n",
    "        print(netsalary)\n",
    "elif employee==\"Engineer\":\n",
    "    if exp>5:\n",
    "        netsalary=Basesalary+((Basesalary*15)/100)\n",
    "        print(netsalary)\n",
    "    else:\n",
    "        netsalary=Basesalary+((Basesalary*5)/100)\n",
    "        print(netsalary)\n",
    "else:\n",
    "    print(\"Invalid details\")\n",
    "\n"
   ]
  }
 ],
 "metadata": {
  "kernelspec": {
   "display_name": "Python 3",
   "language": "python",
   "name": "python3"
  },
  "language_info": {
   "codemirror_mode": {
    "name": "ipython",
    "version": 3
   },
   "file_extension": ".py",
   "mimetype": "text/x-python",
   "name": "python",
   "nbconvert_exporter": "python",
   "pygments_lexer": "ipython3",
   "version": "3.12.3"
  }
 },
 "nbformat": 4,
 "nbformat_minor": 2
}
