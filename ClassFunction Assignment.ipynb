{
 "cells": [
  {
   "cell_type": "code",
   "execution_count": 11,
   "metadata": {},
   "outputs": [
    {
     "name": "stdout",
     "output_type": "stream",
     "text": [
      "Machine Learning\n",
      "Neural Networks\n",
      "Vision\n",
      "Robotics\n",
      "Speech Processing\n",
      "Natural Language Processing\n"
     ]
    }
   ],
   "source": [
    "class SubfieldsInAI:\n",
    "    def Subfields():\n",
    "        Lists=[\"Machine Learning\",\"Neural Networks\",\"Vision\",\"Robotics\",\"Speech Processing\",\"Natural Language Processing\"]\n",
    "        for i in Lists:\n",
    "            print(i)\n",
    "SubfieldsInAI.Subfields()\n"
   ]
  },
  {
   "cell_type": "code",
   "execution_count": 10,
   "metadata": {},
   "outputs": [
    {
     "name": "stdout",
     "output_type": "stream",
     "text": [
      "123456 is Even number\n"
     ]
    }
   ],
   "source": [
    "\n",
    "class OddEven:\n",
    "    def OddEven():\n",
    "        Number=int(input(\"Enter the number: \"))\n",
    "        if (Number%2==0):\n",
    "            print(Number,\"is Even number\")\n",
    "        else:\n",
    "            print(Number,\"is odd number\")\n",
    "\n",
    "OddEven.OddEven()"
   ]
  },
  {
   "cell_type": "code",
   "execution_count": 9,
   "metadata": {},
   "outputs": [
    {
     "name": "stdout",
     "output_type": "stream",
     "text": [
      "ELIGIBLE\n"
     ]
    }
   ],
   "source": [
    "\n",
    "class ElegiblityForMarriage:\n",
    "    \n",
    "    def Elegible():\n",
    "        Gender=input(\"Your Gender: \")\n",
    "        Age=int(input(\"Your Age: \"))\n",
    "        if Gender=='Male' and Age>=21:\n",
    "         print(\"ELIGIBLE\")\n",
    "        elif Gender=='Female' and Age>=18:\n",
    "            print(\"ELIGIBLE\")\n",
    "        else:\n",
    "            print(\"NOT ELIGIBLE\")\n",
    "ElegiblityForMarriage.Elegible()\n",
    "\n"
   ]
  },
  {
   "cell_type": "code",
   "execution_count": 1,
   "metadata": {},
   "outputs": [
    {
     "name": "stdout",
     "output_type": "stream",
     "text": [
      "Total 353 \n",
      "Percentage 70.6\n"
     ]
    }
   ],
   "source": [
    "class FindPercent:\n",
    "        def percentage():\n",
    "            Subject1 = int(input(\"Enter the no\"))\n",
    "            Subject2 = int(input(\"Enter the no\"))\n",
    "            Subject3 = int(input(\"Enter the no\"))\n",
    "            Subject4 = int(input(\"Enter the no\"))\n",
    "            Subject5 = int(input(\"Enter the no\"))\n",
    "            Total = Subject1+Subject2+Subject3 +Subject4 +Subject5\n",
    "            Percentage = Total / 5\n",
    "            print(\"Total\",Total,\"\\nPercentage\",Percentage)          \n",
    "FindPercent.percentage()\n",
    "\n"
   ]
  },
  {
   "cell_type": "code",
   "execution_count": 6,
   "metadata": {},
   "outputs": [
    {
     "name": "stdout",
     "output_type": "stream",
     "text": [
      "Area of Triangle: 765.0\n",
      "157\n",
      "Perimeter of Triangle: 157\n"
     ]
    }
   ],
   "source": [
    "class Triangle: \n",
    "    def triangle1():\n",
    "        Height = int(input(\"Enter the no\"))\n",
    "        Breadth = int(input(\"Enter the no\"))\n",
    "        Area_formula = (Height * Breadth) / 2\n",
    "        print(\"Area of Triangle:\", Area_formula)\n",
    "        print(\"Area_formula = (Height * Breadth) / 2\")\n",
    "        Height1 = int(input(\"Enter the no\"))\n",
    "        Height2 = int(input(\"Enter the no\"))\n",
    "        Breadth = int(input(\"Enter the no\"))\n",
    "        Perimeter_Triangle = Height1 +Height2 +Breadth\n",
    "        print(\"Perimeter_Triangle = Height1 +Height2 +Breadth\")\n",
    "        print(\"Perimeter of Triangle:\", Perimeter_Triangle)\n",
    "Triangle.triangle1()\n",
    "\n",
    "\n",
    "\n",
    "\n"
   ]
  }
 ],
 "metadata": {
  "kernelspec": {
   "display_name": "Python 3",
   "language": "python",
   "name": "python3"
  },
  "language_info": {
   "codemirror_mode": {
    "name": "ipython",
    "version": 3
   },
   "file_extension": ".py",
   "mimetype": "text/x-python",
   "name": "python",
   "nbconvert_exporter": "python",
   "pygments_lexer": "ipython3",
   "version": "3.12.3"
  }
 },
 "nbformat": 4,
 "nbformat_minor": 2
}
