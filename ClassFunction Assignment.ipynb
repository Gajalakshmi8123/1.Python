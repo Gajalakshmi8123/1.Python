{
 "cells": [
  {
   "cell_type": "code",
   "execution_count": 5,
   "metadata": {},
   "outputs": [
    {
     "name": "stdout",
     "output_type": "stream",
     "text": [
      "Machine Learning\n",
      "Neural Networks\n",
      "Vision\n",
      "Robotics\n",
      "Speech Processing\n",
      "Natural Language Processing\n"
     ]
    }
   ],
   "source": [
    "class SubfieldsInAI:\n",
    "    def Subfields():\n",
    "        print (\"Machine Learning\"),\n",
    "        print (\"Neural Networks\"),\n",
    "        print (\"Vision\"),\n",
    "        print (\"Robotics\"),\n",
    "        print (\"Speech Processing\"),\n",
    "        print (\"Natural Language Processing\")\n",
    "SubfieldsInAI.Subfields()\n"
   ]
  },
  {
   "cell_type": "code",
   "execution_count": 9,
   "metadata": {},
   "outputs": [
    {
     "name": "stdout",
     "output_type": "stream",
     "text": [
      "12345 is odd number\n"
     ]
    }
   ],
   "source": [
    "Number=int(input(\"Enter the number: \"))\n",
    "class OddEven:\n",
    "    def OddEven():\n",
    "        if (Number%2==0):\n",
    "            print(Number,\"is Even number\")\n",
    "        else:\n",
    "            print(Number,\"is odd number\")\n",
    "\n",
    "OddEven.OddEven()"
   ]
  },
  {
   "cell_type": "code",
   "execution_count": 16,
   "metadata": {},
   "outputs": [
    {
     "name": "stdout",
     "output_type": "stream",
     "text": [
      "NOT ELIGIBLE\n"
     ]
    }
   ],
   "source": [
    "Gender=input(\"Your Gender: \")\n",
    "Age=int(input(\"Your Age: \"))\n",
    "class ElegiblityForMarriage:\n",
    "    def Elegible():\n",
    "        if Gender=='Male' and Age>=21:\n",
    "            print(\"ELIGIBLE\")\n",
    "        elif Gender=='Female' and Age>=18:\n",
    "            print(\"ELIGIBLE\")\n",
    "        else:\n",
    "            print(\"NOT ELIGIBLE\")\n",
    "ElegiblityForMarriage.Elegible()\n",
    "\n"
   ]
  },
  {
   "cell_type": "code",
   "execution_count": 22,
   "metadata": {},
   "outputs": [
    {
     "name": "stdout",
     "output_type": "stream",
     "text": [
      "Total score: 468\n",
      "Percentage: 93.6\n"
     ]
    }
   ],
   "source": [
    "class FindPercent:\n",
    "    def __init__(self):\n",
    "        self.Subject1 = 98\n",
    "        self.Subject2 = 87\n",
    "        self.Subject3 = 95\n",
    "        self.Subject4 = 95\n",
    "        self.Subject5 = 93\n",
    "    \n",
    "    def percentage(self):\n",
    "        Total = self.Subject1 + self.Subject2 + self.Subject3 + self.Subject4 + self.Subject5\n",
    "        Percentage = Total / 5\n",
    "        return Total, Percentage\n",
    "\n",
    "# Creating an instance of the FindPercent class\n",
    "calculator = FindPercent()\n",
    "\n",
    "# Calling the percentage method on the instance\n",
    "total_score, percentage_score = calculator.percentage()\n",
    "\n",
    "print(\"Total score:\", total_score)\n",
    "print(\"Percentage:\", percentage_score)\n"
   ]
  },
  {
   "cell_type": "code",
   "execution_count": 45,
   "metadata": {},
   "outputs": [
    {
     "name": "stdout",
     "output_type": "stream",
     "text": [
      "Area of Triangle: 544.0\n",
      "Perimeter of Triangle: 40\n"
     ]
    }
   ],
   "source": [
    "class Triangle:\n",
    "    Height = 32\n",
    "    Breadth = 34\n",
    "    Height1 = 2\n",
    "    Height2 = 4\n",
    "    \n",
    "    \n",
    "    def triangle1(cls):\n",
    "        Area_formula = (cls.Height * cls.Breadth) / 2\n",
    "        print(\"Area of Triangle:\", Area_formula)\n",
    "    \n",
    "     \n",
    "    def perimeter(cls):\n",
    "        Perimeter_Triangle = cls.Height1 + cls.Height2 + cls.Breadth\n",
    "        print(\"Perimeter of Triangle:\", Perimeter_Triangle)\n",
    "\n",
    "# Calling the class methods directly\n",
    "Triangle.triangle1()\n",
    "Triangle.perimeter()\n",
    "\n",
    "\n",
    "\n"
   ]
  }
 ],
 "metadata": {
  "kernelspec": {
   "display_name": "Python 3",
   "language": "python",
   "name": "python3"
  },
  "language_info": {
   "codemirror_mode": {
    "name": "ipython",
    "version": 3
   },
   "file_extension": ".py",
   "mimetype": "text/x-python",
   "name": "python",
   "nbconvert_exporter": "python",
   "pygments_lexer": "ipython3",
   "version": "3.12.3"
  }
 },
 "nbformat": 4,
 "nbformat_minor": 2
}
