{
 "cells": [
  {
   "cell_type": "markdown",
   "metadata": {},
   "source": [
    "A set is ordered,does n't allow duplicate,used to store collection of unique items,membership tests and mathematical operation like union,intersection,difference ans symmetric difference"
   ]
  },
  {
   "cell_type": "code",
   "execution_count": 1,
   "metadata": {},
   "outputs": [
    {
     "name": "stdout",
     "output_type": "stream",
     "text": [
      "<class 'set'>\n"
     ]
    }
   ],
   "source": [
    "my_set={1,2,3,4,5}\n",
    "print(type(my_set))"
   ]
  },
  {
   "cell_type": "code",
   "execution_count": 10,
   "metadata": {},
   "outputs": [
    {
     "name": "stdout",
     "output_type": "stream",
     "text": [
      "{2, 3, 4, 5}\n",
      "<class 'set'>\n"
     ]
    }
   ],
   "source": [
    "My_emp_set=set((2,3,4,5))\n",
    "print(My_emp_set)\n",
    "print(type(My_emp_set))"
   ]
  },
  {
   "cell_type": "code",
   "execution_count": 8,
   "metadata": {},
   "outputs": [
    {
     "name": "stdout",
     "output_type": "stream",
     "text": [
      "{2, 4, 6}\n",
      "<class 'set'>\n"
     ]
    }
   ],
   "source": [
    "sets=set([2,4,6])\n",
    "print(sets)\n",
    "print(type(sets))"
   ]
  },
  {
   "cell_type": "code",
   "execution_count": 11,
   "metadata": {},
   "outputs": [
    {
     "name": "stdout",
     "output_type": "stream",
     "text": [
      "{2, 3, 4, 5, 6, 7}\n"
     ]
    }
   ],
   "source": [
    "#adding elements\n",
    "sets={2,3,4,5,6}\n",
    "sets.add(7)\n",
    "print(sets)"
   ]
  },
  {
   "cell_type": "code",
   "execution_count": 12,
   "metadata": {},
   "outputs": [
    {
     "name": "stdout",
     "output_type": "stream",
     "text": [
      "{3, 4, 5, 6, 7}\n"
     ]
    }
   ],
   "source": [
    "#removing elements\n",
    "sets.remove(2)\n",
    "print(sets)"
   ]
  },
  {
   "cell_type": "code",
   "execution_count": 13,
   "metadata": {},
   "outputs": [
    {
     "name": "stdout",
     "output_type": "stream",
     "text": [
      "{3, 4, 5, 6}\n"
     ]
    }
   ],
   "source": [
    "sets.discard(7)\n",
    "print(sets)"
   ]
  },
  {
   "cell_type": "code",
   "execution_count": 14,
   "metadata": {},
   "outputs": [
    {
     "name": "stdout",
     "output_type": "stream",
     "text": [
      "{2, 3, 4, 5, 6}\n"
     ]
    }
   ],
   "source": [
    "#pop items first item will delete\n",
    "rev={1,2,3,4,5,6}\n",
    "rev.pop()\n",
    "print(rev)"
   ]
  },
  {
   "cell_type": "code",
   "execution_count": null,
   "metadata": {},
   "outputs": [],
   "source": [
    "My_set.clear()"
   ]
  },
  {
   "cell_type": "code",
   "execution_count": 15,
   "metadata": {},
   "outputs": [
    {
     "name": "stdout",
     "output_type": "stream",
     "text": [
      "True\n",
      "True\n"
     ]
    }
   ],
   "source": [
    "#set memebership test\n",
    "sets={2,3,4,5}\n",
    "print(3 in sets)\n",
    "print(2 in sets)"
   ]
  },
  {
   "cell_type": "code",
   "execution_count": 17,
   "metadata": {},
   "outputs": [
    {
     "name": "stdout",
     "output_type": "stream",
     "text": [
      "{1, 2, 3, 4, 5, 6, 7, 8}\n"
     ]
    }
   ],
   "source": [
    "Set1={1,2,3,4,5}\n",
    "Set2={4,5,6,7,8}\n",
    "uni_set=Set1.union(Set2)\n",
    "print(uni_set)"
   ]
  },
  {
   "cell_type": "code",
   "execution_count": 19,
   "metadata": {},
   "outputs": [
    {
     "name": "stdout",
     "output_type": "stream",
     "text": [
      "{4, 5}\n"
     ]
    }
   ],
   "source": [
    "inter=Set1.intersection(Set2)\n",
    "print(inter)"
   ]
  },
  {
   "cell_type": "code",
   "execution_count": 20,
   "metadata": {},
   "outputs": [
    {
     "name": "stdout",
     "output_type": "stream",
     "text": [
      "{1, 2, 3}\n"
     ]
    }
   ],
   "source": [
    "diff=Set1.difference(Set2)\n",
    "print(diff)"
   ]
  },
  {
   "cell_type": "code",
   "execution_count": 21,
   "metadata": {},
   "outputs": [
    {
     "name": "stdout",
     "output_type": "stream",
     "text": [
      "{1, 2, 3, 6, 7, 8}\n"
     ]
    }
   ],
   "source": [
    "#symmetric difference\n",
    "sym_set=Set1.symmetric_difference(Set2)\n",
    "print(sym_set)"
   ]
  },
  {
   "cell_type": "code",
   "execution_count": 22,
   "metadata": {},
   "outputs": [
    {
     "name": "stdout",
     "output_type": "stream",
     "text": [
      "False\n"
     ]
    }
   ],
   "source": [
    "#is subset all the elements in set1 is also present in set2\n",
    "subset=Set1.issubset(Set2)\n",
    "print(subset)"
   ]
  },
  {
   "cell_type": "code",
   "execution_count": 23,
   "metadata": {},
   "outputs": [
    {
     "name": "stdout",
     "output_type": "stream",
     "text": [
      "False\n"
     ]
    }
   ],
   "source": [
    "#if all the set2 elements are available in set1 then it is called as issuperset\n",
    "superset=Set1.issuperset(Set2)\n",
    "print(superset)"
   ]
  },
  {
   "cell_type": "code",
   "execution_count": 27,
   "metadata": {},
   "outputs": [
    {
     "name": "stdout",
     "output_type": "stream",
     "text": [
      "very 4\n",
      "is 2\n",
      "The 3\n",
      "world 5\n",
      "Beautiful 9\n"
     ]
    }
   ],
   "source": [
    "Sentence=\"The world is very Beautiful\"\n",
    "word=Sentence.split()\n",
    "unique=set(word)\n",
    "for i in unique:\n",
    "    print(i,len(i))\n"
   ]
  },
  {
   "cell_type": "code",
   "execution_count": 28,
   "metadata": {},
   "outputs": [
    {
     "name": "stdout",
     "output_type": "stream",
     "text": [
      "{1, 2, 3, 4, 5}\n"
     ]
    }
   ],
   "source": [
    "#Convert List to Set\n",
    "list=[1, 2, 2, 3, 4, 4, 5]\n",
    "sets=set(list)\n",
    "print(sets)"
   ]
  },
  {
   "cell_type": "code",
   "execution_count": 29,
   "metadata": {},
   "outputs": [
    {
     "data": {
      "text/plain": [
       "5"
      ]
     },
     "execution_count": 29,
     "metadata": {},
     "output_type": "execute_result"
    }
   ],
   "source": [
    "len(sets)"
   ]
  },
  {
   "cell_type": "code",
   "execution_count": 31,
   "metadata": {},
   "outputs": [
    {
     "name": "stdout",
     "output_type": "stream",
     "text": [
      "set()\n"
     ]
    }
   ],
   "source": [
    "#clear a set\n",
    "S1={1,2,3,4,5}\n",
    "S1.clear()\n",
    "print(S1)"
   ]
  },
  {
   "cell_type": "code",
   "execution_count": 39,
   "metadata": {},
   "outputs": [
    {
     "name": "stdout",
     "output_type": "stream",
     "text": [
      "{3}\n"
     ]
    }
   ],
   "source": [
    "Set1 = {1, 2, 3}\n",
    "Set2 = {2, 3, 4}\n",
    "Set3 = {3, 4, 5}\n",
    "sets=Set1&Set2&Set3\n",
    "print(sets)"
   ]
  },
  {
   "cell_type": "code",
   "execution_count": 18,
   "metadata": {},
   "outputs": [
    {
     "name": "stdout",
     "output_type": "stream",
     "text": [
      "{'e': 1, 'o': 2}\n"
     ]
    }
   ],
   "source": [
    "\n",
    "a = \"aeiou\"\n",
    "b = \"Hello World\"\n",
    "l = {}\n",
    "b = b.lower()\n",
    "for i in a:\n",
    "    if i in b:\n",
    "        l[i] = b.count(i)\n",
    "print(l)\n"
   ]
  },
  {
   "cell_type": "code",
   "execution_count": 26,
   "metadata": {},
   "outputs": [
    {
     "name": "stdout",
     "output_type": "stream",
     "text": [
      "{0, 64, 256, 4, 36, 100, 196, 324, 16, 144}\n"
     ]
    }
   ],
   "source": [
    "#sqaure of 20 even numbers\n",
    "square={x**2 for x in range(20) if x%2==0}\n",
    "print(square)"
   ]
  }
 ],
 "metadata": {
  "kernelspec": {
   "display_name": "Python 3",
   "language": "python",
   "name": "python3"
  },
  "language_info": {
   "codemirror_mode": {
    "name": "ipython",
    "version": 3
   },
   "file_extension": ".py",
   "mimetype": "text/x-python",
   "name": "python",
   "nbconvert_exporter": "python",
   "pygments_lexer": "ipython3",
   "version": "3.12.3"
  }
 },
 "nbformat": 4,
 "nbformat_minor": 2
}
