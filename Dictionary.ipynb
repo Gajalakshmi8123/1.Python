{
 "cells": [
  {
   "cell_type": "markdown",
   "metadata": {},
   "source": [
    "A Dictionary is a unordered collection of items.it is immutable and unique key value."
   ]
  },
  {
   "cell_type": "code",
   "execution_count": 3,
   "metadata": {},
   "outputs": [
    {
     "name": "stdout",
     "output_type": "stream",
     "text": [
      "<class 'dict'>\n"
     ]
    }
   ],
   "source": [
    "diction={\"name\":\"Gaja\",\"age\":25,\"Grade\":1}\n",
    "print(dict)"
   ]
  },
  {
   "cell_type": "code",
   "execution_count": 4,
   "metadata": {},
   "outputs": [
    {
     "ename": "SyntaxError",
     "evalue": "invalid syntax (710877661.py, line 1)",
     "output_type": "error",
     "traceback": [
      "\u001b[1;36m  Cell \u001b[1;32mIn[4], line 1\u001b[1;36m\u001b[0m\n\u001b[1;33m    my_dict=dict(\"name\":\"charle\",\"age\":23)\u001b[0m\n\u001b[1;37m                       ^\u001b[0m\n\u001b[1;31mSyntaxError\u001b[0m\u001b[1;31m:\u001b[0m invalid syntax\n"
     ]
    }
   ],
   "source": [
    "my_dict=dict(\"name\":\"charle\",\"age\":23)"
   ]
  },
  {
   "cell_type": "code",
   "execution_count": 7,
   "metadata": {},
   "outputs": [
    {
     "name": "stdout",
     "output_type": "stream",
     "text": [
      "25\n"
     ]
    }
   ],
   "source": [
    "#accessing the dictionary\n",
    "print(diction[\"age\"])"
   ]
  },
  {
   "cell_type": "code",
   "execution_count": 8,
   "metadata": {},
   "outputs": [
    {
     "name": "stdout",
     "output_type": "stream",
     "text": [
      "{'name': 'charlie'}\n"
     ]
    }
   ],
   "source": [
    "#always use unique key value\n",
    "student={\"name\":\"arden\",\"name\":\"charlie\"}\n",
    "print(student)"
   ]
  },
  {
   "cell_type": "code",
   "execution_count": 9,
   "metadata": {},
   "outputs": [
    {
     "name": "stdout",
     "output_type": "stream",
     "text": [
      "charlie\n",
      "None\n"
     ]
    }
   ],
   "source": [
    "#accessing elements using the get() method\n",
    "print(student.get(\"name\"))\n",
    "print(student.get(\"grade\"))"
   ]
  },
  {
   "cell_type": "code",
   "execution_count": 10,
   "metadata": {},
   "outputs": [
    {
     "name": "stdout",
     "output_type": "stream",
     "text": [
      "A\n"
     ]
    }
   ],
   "source": [
    "print(student.get(\"grade\",\"A\"))"
   ]
  },
  {
   "cell_type": "code",
   "execution_count": 12,
   "metadata": {},
   "outputs": [
    {
     "name": "stdout",
     "output_type": "stream",
     "text": [
      "{'name': 'charlie', 'class': 'A'}\n"
     ]
    }
   ],
   "source": [
    "#add the elements\n",
    "student[\"class\"]=\"A\"\n",
    "print(student)"
   ]
  },
  {
   "cell_type": "code",
   "execution_count": 13,
   "metadata": {},
   "outputs": [
    {
     "name": "stdout",
     "output_type": "stream",
     "text": [
      "{'name': 'charlie', 'class': 'B'}\n"
     ]
    }
   ],
   "source": [
    "#update the elements\n",
    "student[\"class\"]=\"B\"\n",
    "print(student)"
   ]
  },
  {
   "cell_type": "code",
   "execution_count": 21,
   "metadata": {},
   "outputs": [],
   "source": [
    "#delete the key\n",
    "del student[\"class\"]"
   ]
  },
  {
   "cell_type": "code",
   "execution_count": 17,
   "metadata": {},
   "outputs": [
    {
     "name": "stdout",
     "output_type": "stream",
     "text": [
      "dict_keys(['name', 'class'])\n"
     ]
    }
   ],
   "source": [
    "#print the key \n",
    "res=student.keys()\n",
    "print(res)"
   ]
  },
  {
   "cell_type": "code",
   "execution_count": 18,
   "metadata": {},
   "outputs": [
    {
     "name": "stdout",
     "output_type": "stream",
     "text": [
      "dict_values(['charlie', 'B'])\n"
     ]
    }
   ],
   "source": [
    "#print the value\n",
    "value=student.values()\n",
    "print(value)"
   ]
  },
  {
   "cell_type": "code",
   "execution_count": 19,
   "metadata": {},
   "outputs": [
    {
     "name": "stdout",
     "output_type": "stream",
     "text": [
      "dict_items([('name', 'charlie'), ('class', 'B')])\n"
     ]
    }
   ],
   "source": [
    "#print the items\n",
    "item=student.items()\n",
    "print(item)"
   ]
  },
  {
   "cell_type": "code",
   "execution_count": 22,
   "metadata": {},
   "outputs": [
    {
     "name": "stdout",
     "output_type": "stream",
     "text": [
      "{'name': 'charlie', 'class': 'B'}\n"
     ]
    }
   ],
   "source": [
    "student[\"class\"]=\"B\"\n",
    "print(student)"
   ]
  },
  {
   "cell_type": "code",
   "execution_count": 23,
   "metadata": {},
   "outputs": [
    {
     "name": "stdout",
     "output_type": "stream",
     "text": [
      "name\n",
      "class\n"
     ]
    }
   ],
   "source": [
    "#iterate the values\n",
    "for key in student.keys():\n",
    "    print(key)"
   ]
  },
  {
   "cell_type": "code",
   "execution_count": 24,
   "metadata": {},
   "outputs": [
    {
     "name": "stdout",
     "output_type": "stream",
     "text": [
      "charlie\n",
      "B\n"
     ]
    }
   ],
   "source": [
    "for value in student.values():\n",
    "    print(value)"
   ]
  },
  {
   "cell_type": "code",
   "execution_count": 25,
   "metadata": {},
   "outputs": [
    {
     "name": "stdout",
     "output_type": "stream",
     "text": [
      "('name', 'charlie')\n",
      "('class', 'B')\n"
     ]
    }
   ],
   "source": [
    "for items in student.items():\n",
    "    print(items)"
   ]
  },
  {
   "cell_type": "code",
   "execution_count": 26,
   "metadata": {},
   "outputs": [
    {
     "name": "stdout",
     "output_type": "stream",
     "text": [
      "name charlie\n",
      "class B\n"
     ]
    }
   ],
   "source": [
    "for keys,values in student.items():\n",
    "    print(keys,values)"
   ]
  },
  {
   "cell_type": "code",
   "execution_count": 32,
   "metadata": {},
   "outputs": [],
   "source": [
    "#nested dictionary\n",
    "Students={\n",
    "    \"student1\":{\"name\":\"bab\",\"class\":\"A\"},\n",
    "    \"student2\":{\"name\":\"charle\",\"class\":\"B\"}\n",
    "}"
   ]
  },
  {
   "cell_type": "code",
   "execution_count": 34,
   "metadata": {},
   "outputs": [
    {
     "name": "stdout",
     "output_type": "stream",
     "text": [
      "bab\n"
     ]
    }
   ],
   "source": [
    "#accessing the nested dictionary\n",
    "print(Students[\"student1\"][\"name\"])"
   ]
  },
  {
   "cell_type": "code",
   "execution_count": 45,
   "metadata": {},
   "outputs": [
    {
     "name": "stdout",
     "output_type": "stream",
     "text": [
      "student1:{'name': 'bab', 'class': 'A'}\n",
      "name,bab\n",
      "class,A\n",
      "student2:{'name': 'charle', 'class': 'B'}\n",
      "name,charle\n",
      "class,B\n"
     ]
    }
   ],
   "source": [
    "#iterate for nested dictionary\n",
    "for studen,studentinfo in Students.items():\n",
    "    print(f\"{studen}:{studentinfo}\")\n",
    "    for key,value in studentinfo.items():\n",
    "        print(f\"{key},{value}\")\n",
    "       "
   ]
  },
  {
   "cell_type": "code",
   "execution_count": 46,
   "metadata": {},
   "outputs": [
    {
     "name": "stdout",
     "output_type": "stream",
     "text": [
      "student1:{'name': 'bab', 'class': 'A'}\n",
      "student2:{'name': 'charle', 'class': 'B'}\n"
     ]
    }
   ],
   "source": [
    "for studen,studentinfo in Students.items():\n",
    "    print(f\"{studen}:{studentinfo}\")"
   ]
  },
  {
   "cell_type": "code",
   "execution_count": 67,
   "metadata": {},
   "outputs": [
    {
     "name": "stdout",
     "output_type": "stream",
     "text": [
      "name abc\n",
      "age 30\n"
     ]
    }
   ],
   "source": [
    "a={\"name\":\"abc\",\"age\":30}\n",
    "for i,j in a.items():\n",
    "    print(i,j)"
   ]
  },
  {
   "cell_type": "code",
   "execution_count": 65,
   "metadata": {},
   "outputs": [
    {
     "name": "stdout",
     "output_type": "stream",
     "text": [
      "student1:bab\n",
      "student2:charle\n"
     ]
    }
   ],
   "source": [
    "for studen,studentinfo in Students.items():\n",
    "    print(f\"{studen}:{studentinfo[\"name\"]}\")"
   ]
  },
  {
   "cell_type": "code",
   "execution_count": 73,
   "metadata": {},
   "outputs": [
    {
     "name": "stdout",
     "output_type": "stream",
     "text": [
      "{'a': 3, 'b': 2, 'c': 1}\n"
     ]
    }
   ],
   "source": [
    "input_list = ['a', 'b', 'a', 'c', 'b', 'a']\n",
    "frequency_dict = {}\n",
    "for item in input_list:\n",
    "    if item in frequency_dict:\n",
    "        frequency_dict[item] += 1\n",
    "    else:\n",
    "        frequency_dict[item] = 1\n",
    "print(frequency_dict)\n",
    "\n"
   ]
  },
  {
   "cell_type": "code",
   "execution_count": 78,
   "metadata": {},
   "outputs": [
    {
     "name": "stdout",
     "output_type": "stream",
     "text": [
      "c\n"
     ]
    }
   ],
   "source": [
    "input={'a': 10, 'b': 5, 'c': 20}\n",
    "print(max(input))"
   ]
  },
  {
   "cell_type": "code",
   "execution_count": 79,
   "metadata": {},
   "outputs": [
    {
     "name": "stdout",
     "output_type": "stream",
     "text": [
      "1 a\n",
      "2 b\n",
      "3 c\n"
     ]
    }
   ],
   "source": [
    "ip={'a': 1, 'b': 2, 'c': 3}\n",
    "for key,value in ip.items():\n",
    "    print(value,key)"
   ]
  },
  {
   "cell_type": "code",
   "execution_count": 87,
   "metadata": {},
   "outputs": [
    {
     "name": "stdout",
     "output_type": "stream",
     "text": [
      "{1: 'a', 2: 'b', 3: 'c'}\n"
     ]
    }
   ],
   "source": [
    "rev={value:key for key, value in ip.items()}\n",
    "print(rev)"
   ]
  },
  {
   "cell_type": "code",
   "execution_count": 89,
   "metadata": {},
   "outputs": [
    {
     "name": "stdout",
     "output_type": "stream",
     "text": [
      "{'a': 5, 'b': 7, 'c': 2}\n"
     ]
    }
   ],
   "source": [
    "dict1={'a': 5, 'b': 3}\n",
    "dict2={'b': 7, 'c': 2}\n",
    "merge={**dict1,**dict2}\n",
    "print(merge)"
   ]
  }
 ],
 "metadata": {
  "kernelspec": {
   "display_name": "Python 3",
   "language": "python",
   "name": "python3"
  },
  "language_info": {
   "codemirror_mode": {
    "name": "ipython",
    "version": 3
   },
   "file_extension": ".py",
   "mimetype": "text/x-python",
   "name": "python",
   "nbconvert_exporter": "python",
   "pygments_lexer": "ipython3",
   "version": "3.12.3"
  }
 },
 "nbformat": 4,
 "nbformat_minor": 2
}
